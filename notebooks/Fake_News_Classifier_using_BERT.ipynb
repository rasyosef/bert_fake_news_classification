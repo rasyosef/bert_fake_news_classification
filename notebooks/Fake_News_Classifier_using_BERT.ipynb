{
  "nbformat": 4,
  "nbformat_minor": 0,
  "metadata": {
    "colab": {
      "provenance": []
    },
    "kernelspec": {
      "name": "python3",
      "display_name": "Python 3"
    },
    "language_info": {
      "name": "python"
    },
    "accelerator": "GPU",
    "gpuClass": "standard"
  },
  "cells": [
    {
      "cell_type": "markdown",
      "source": [
        "### Download the Kaggle fake news detection dataset (English)"
      ],
      "metadata": {
        "id": "k5_ZGMbclVsW"
      }
    },
    {
      "cell_type": "code",
      "execution_count": null,
      "metadata": {
        "colab": {
          "base_uri": "https://localhost:8080/",
          "height": 104
        },
        "id": "LjLiWu3-z_nh",
        "outputId": "ef2fad20-3485-4394-812f-74b41973a9e3"
      },
      "outputs": [
        {
          "output_type": "stream",
          "name": "stderr",
          "text": [
            "Downloading...\n",
            "From: https://drive.google.com/uc?id=1Ajm-a_RwfVryBEQ4csOE8Jd7-l7wpufO&confirm=t\n",
            "To: /content/kaggle_fake_news_dataset.zip\n",
            "100%|██████████| 43.0M/43.0M [00:00<00:00, 82.0MB/s]\n"
          ]
        },
        {
          "output_type": "execute_result",
          "data": {
            "text/plain": [
              "'kaggle_fake_news_dataset.zip'"
            ],
            "application/vnd.google.colaboratory.intrinsic+json": {
              "type": "string"
            }
          },
          "metadata": {},
          "execution_count": 1
        }
      ],
      "source": [
        "import gdown\n",
        "url = \"https://drive.google.com/uc?id=1Ajm-a_RwfVryBEQ4csOE8Jd7-l7wpufO&confirm=t\"\n",
        "output = \"kaggle_fake_news_dataset.zip\"\n",
        "gdown.download(url, output, quiet=False)"
      ]
    },
    {
      "cell_type": "code",
      "source": [
        "!unzip 'kaggle_fake_news_dataset.zip'"
      ],
      "metadata": {
        "colab": {
          "base_uri": "https://localhost:8080/"
        },
        "id": "_l63LqjD0F2D",
        "outputId": "c08514d7-feef-4618-cbb2-3917d30936c1"
      },
      "execution_count": null,
      "outputs": [
        {
          "output_type": "stream",
          "name": "stdout",
          "text": [
            "Archive:  kaggle_fake_news_dataset.zip\n",
            "  inflating: Fake.csv/Fake.csv       \n",
            "  inflating: True.csv/True.csv       \n",
            "  inflating: il_1140xN.1287758547_2nwc.png  \n"
          ]
        }
      ]
    },
    {
      "cell_type": "markdown",
      "source": [
        "### Load CSV files"
      ],
      "metadata": {
        "id": "o-AiegZZlg8Q"
      }
    },
    {
      "cell_type": "code",
      "source": [
        "import numpy as np\n",
        "import pandas as pd\n",
        "import matplotlib.pyplot as plt\n",
        "import random\n"
      ],
      "metadata": {
        "id": "exszd7cp3-qH"
      },
      "execution_count": null,
      "outputs": []
    },
    {
      "cell_type": "code",
      "source": [
        "df_fake = pd.read_csv('Fake.csv/Fake.csv')\n",
        "df_fake.head()"
      ],
      "metadata": {
        "colab": {
          "base_uri": "https://localhost:8080/",
          "height": 337
        },
        "id": "mi35P_bbRyE3",
        "outputId": "cbe98e64-4c8e-49a1-d9a7-7ed45334d5a3"
      },
      "execution_count": null,
      "outputs": [
        {
          "output_type": "execute_result",
          "data": {
            "text/plain": [
              "                                               title  \\\n",
              "0   Donald Trump Sends Out Embarrassing New Year’...   \n",
              "1   Drunk Bragging Trump Staffer Started Russian ...   \n",
              "2   Sheriff David Clarke Becomes An Internet Joke...   \n",
              "3   Trump Is So Obsessed He Even Has Obama’s Name...   \n",
              "4   Pope Francis Just Called Out Donald Trump Dur...   \n",
              "\n",
              "                                                text subject  \\\n",
              "0  Donald Trump just couldn t wish all Americans ...    News   \n",
              "1  House Intelligence Committee Chairman Devin Nu...    News   \n",
              "2  On Friday, it was revealed that former Milwauk...    News   \n",
              "3  On Christmas day, Donald Trump announced that ...    News   \n",
              "4  Pope Francis used his annual Christmas Day mes...    News   \n",
              "\n",
              "                date  \n",
              "0  December 31, 2017  \n",
              "1  December 31, 2017  \n",
              "2  December 30, 2017  \n",
              "3  December 29, 2017  \n",
              "4  December 25, 2017  "
            ],
            "text/html": [
              "\n",
              "  <div id=\"df-f0a04a48-d0be-477d-b471-446d6abf951f\">\n",
              "    <div class=\"colab-df-container\">\n",
              "      <div>\n",
              "<style scoped>\n",
              "    .dataframe tbody tr th:only-of-type {\n",
              "        vertical-align: middle;\n",
              "    }\n",
              "\n",
              "    .dataframe tbody tr th {\n",
              "        vertical-align: top;\n",
              "    }\n",
              "\n",
              "    .dataframe thead th {\n",
              "        text-align: right;\n",
              "    }\n",
              "</style>\n",
              "<table border=\"1\" class=\"dataframe\">\n",
              "  <thead>\n",
              "    <tr style=\"text-align: right;\">\n",
              "      <th></th>\n",
              "      <th>title</th>\n",
              "      <th>text</th>\n",
              "      <th>subject</th>\n",
              "      <th>date</th>\n",
              "    </tr>\n",
              "  </thead>\n",
              "  <tbody>\n",
              "    <tr>\n",
              "      <th>0</th>\n",
              "      <td>Donald Trump Sends Out Embarrassing New Year’...</td>\n",
              "      <td>Donald Trump just couldn t wish all Americans ...</td>\n",
              "      <td>News</td>\n",
              "      <td>December 31, 2017</td>\n",
              "    </tr>\n",
              "    <tr>\n",
              "      <th>1</th>\n",
              "      <td>Drunk Bragging Trump Staffer Started Russian ...</td>\n",
              "      <td>House Intelligence Committee Chairman Devin Nu...</td>\n",
              "      <td>News</td>\n",
              "      <td>December 31, 2017</td>\n",
              "    </tr>\n",
              "    <tr>\n",
              "      <th>2</th>\n",
              "      <td>Sheriff David Clarke Becomes An Internet Joke...</td>\n",
              "      <td>On Friday, it was revealed that former Milwauk...</td>\n",
              "      <td>News</td>\n",
              "      <td>December 30, 2017</td>\n",
              "    </tr>\n",
              "    <tr>\n",
              "      <th>3</th>\n",
              "      <td>Trump Is So Obsessed He Even Has Obama’s Name...</td>\n",
              "      <td>On Christmas day, Donald Trump announced that ...</td>\n",
              "      <td>News</td>\n",
              "      <td>December 29, 2017</td>\n",
              "    </tr>\n",
              "    <tr>\n",
              "      <th>4</th>\n",
              "      <td>Pope Francis Just Called Out Donald Trump Dur...</td>\n",
              "      <td>Pope Francis used his annual Christmas Day mes...</td>\n",
              "      <td>News</td>\n",
              "      <td>December 25, 2017</td>\n",
              "    </tr>\n",
              "  </tbody>\n",
              "</table>\n",
              "</div>\n",
              "      <button class=\"colab-df-convert\" onclick=\"convertToInteractive('df-f0a04a48-d0be-477d-b471-446d6abf951f')\"\n",
              "              title=\"Convert this dataframe to an interactive table.\"\n",
              "              style=\"display:none;\">\n",
              "        \n",
              "  <svg xmlns=\"http://www.w3.org/2000/svg\" height=\"24px\"viewBox=\"0 0 24 24\"\n",
              "       width=\"24px\">\n",
              "    <path d=\"M0 0h24v24H0V0z\" fill=\"none\"/>\n",
              "    <path d=\"M18.56 5.44l.94 2.06.94-2.06 2.06-.94-2.06-.94-.94-2.06-.94 2.06-2.06.94zm-11 1L8.5 8.5l.94-2.06 2.06-.94-2.06-.94L8.5 2.5l-.94 2.06-2.06.94zm10 10l.94 2.06.94-2.06 2.06-.94-2.06-.94-.94-2.06-.94 2.06-2.06.94z\"/><path d=\"M17.41 7.96l-1.37-1.37c-.4-.4-.92-.59-1.43-.59-.52 0-1.04.2-1.43.59L10.3 9.45l-7.72 7.72c-.78.78-.78 2.05 0 2.83L4 21.41c.39.39.9.59 1.41.59.51 0 1.02-.2 1.41-.59l7.78-7.78 2.81-2.81c.8-.78.8-2.07 0-2.86zM5.41 20L4 18.59l7.72-7.72 1.47 1.35L5.41 20z\"/>\n",
              "  </svg>\n",
              "      </button>\n",
              "      \n",
              "  <style>\n",
              "    .colab-df-container {\n",
              "      display:flex;\n",
              "      flex-wrap:wrap;\n",
              "      gap: 12px;\n",
              "    }\n",
              "\n",
              "    .colab-df-convert {\n",
              "      background-color: #E8F0FE;\n",
              "      border: none;\n",
              "      border-radius: 50%;\n",
              "      cursor: pointer;\n",
              "      display: none;\n",
              "      fill: #1967D2;\n",
              "      height: 32px;\n",
              "      padding: 0 0 0 0;\n",
              "      width: 32px;\n",
              "    }\n",
              "\n",
              "    .colab-df-convert:hover {\n",
              "      background-color: #E2EBFA;\n",
              "      box-shadow: 0px 1px 2px rgba(60, 64, 67, 0.3), 0px 1px 3px 1px rgba(60, 64, 67, 0.15);\n",
              "      fill: #174EA6;\n",
              "    }\n",
              "\n",
              "    [theme=dark] .colab-df-convert {\n",
              "      background-color: #3B4455;\n",
              "      fill: #D2E3FC;\n",
              "    }\n",
              "\n",
              "    [theme=dark] .colab-df-convert:hover {\n",
              "      background-color: #434B5C;\n",
              "      box-shadow: 0px 1px 3px 1px rgba(0, 0, 0, 0.15);\n",
              "      filter: drop-shadow(0px 1px 2px rgba(0, 0, 0, 0.3));\n",
              "      fill: #FFFFFF;\n",
              "    }\n",
              "  </style>\n",
              "\n",
              "      <script>\n",
              "        const buttonEl =\n",
              "          document.querySelector('#df-f0a04a48-d0be-477d-b471-446d6abf951f button.colab-df-convert');\n",
              "        buttonEl.style.display =\n",
              "          google.colab.kernel.accessAllowed ? 'block' : 'none';\n",
              "\n",
              "        async function convertToInteractive(key) {\n",
              "          const element = document.querySelector('#df-f0a04a48-d0be-477d-b471-446d6abf951f');\n",
              "          const dataTable =\n",
              "            await google.colab.kernel.invokeFunction('convertToInteractive',\n",
              "                                                     [key], {});\n",
              "          if (!dataTable) return;\n",
              "\n",
              "          const docLinkHtml = 'Like what you see? Visit the ' +\n",
              "            '<a target=\"_blank\" href=https://colab.research.google.com/notebooks/data_table.ipynb>data table notebook</a>'\n",
              "            + ' to learn more about interactive tables.';\n",
              "          element.innerHTML = '';\n",
              "          dataTable['output_type'] = 'display_data';\n",
              "          await google.colab.output.renderOutput(dataTable, element);\n",
              "          const docLink = document.createElement('div');\n",
              "          docLink.innerHTML = docLinkHtml;\n",
              "          element.appendChild(docLink);\n",
              "        }\n",
              "      </script>\n",
              "    </div>\n",
              "  </div>\n",
              "  "
            ]
          },
          "metadata": {},
          "execution_count": 4
        }
      ]
    },
    {
      "cell_type": "code",
      "source": [
        "df_true = pd.read_csv('True.csv/True.csv')\n",
        "df_true.head()"
      ],
      "metadata": {
        "colab": {
          "base_uri": "https://localhost:8080/",
          "height": 337
        },
        "id": "43SpwcM84mLk",
        "outputId": "ea708129-f89b-4d16-a9bb-362d664a4553"
      },
      "execution_count": null,
      "outputs": [
        {
          "output_type": "execute_result",
          "data": {
            "text/plain": [
              "                                               title  \\\n",
              "0  As U.S. budget fight looms, Republicans flip t...   \n",
              "1  U.S. military to accept transgender recruits o...   \n",
              "2  Senior U.S. Republican senator: 'Let Mr. Muell...   \n",
              "3  FBI Russia probe helped by Australian diplomat...   \n",
              "4  Trump wants Postal Service to charge 'much mor...   \n",
              "\n",
              "                                                text       subject  \\\n",
              "0  WASHINGTON (Reuters) - The head of a conservat...  politicsNews   \n",
              "1  WASHINGTON (Reuters) - Transgender people will...  politicsNews   \n",
              "2  WASHINGTON (Reuters) - The special counsel inv...  politicsNews   \n",
              "3  WASHINGTON (Reuters) - Trump campaign adviser ...  politicsNews   \n",
              "4  SEATTLE/WASHINGTON (Reuters) - President Donal...  politicsNews   \n",
              "\n",
              "                 date  \n",
              "0  December 31, 2017   \n",
              "1  December 29, 2017   \n",
              "2  December 31, 2017   \n",
              "3  December 30, 2017   \n",
              "4  December 29, 2017   "
            ],
            "text/html": [
              "\n",
              "  <div id=\"df-2a6a7618-30a7-4051-8045-0f7eeb3ea23c\">\n",
              "    <div class=\"colab-df-container\">\n",
              "      <div>\n",
              "<style scoped>\n",
              "    .dataframe tbody tr th:only-of-type {\n",
              "        vertical-align: middle;\n",
              "    }\n",
              "\n",
              "    .dataframe tbody tr th {\n",
              "        vertical-align: top;\n",
              "    }\n",
              "\n",
              "    .dataframe thead th {\n",
              "        text-align: right;\n",
              "    }\n",
              "</style>\n",
              "<table border=\"1\" class=\"dataframe\">\n",
              "  <thead>\n",
              "    <tr style=\"text-align: right;\">\n",
              "      <th></th>\n",
              "      <th>title</th>\n",
              "      <th>text</th>\n",
              "      <th>subject</th>\n",
              "      <th>date</th>\n",
              "    </tr>\n",
              "  </thead>\n",
              "  <tbody>\n",
              "    <tr>\n",
              "      <th>0</th>\n",
              "      <td>As U.S. budget fight looms, Republicans flip t...</td>\n",
              "      <td>WASHINGTON (Reuters) - The head of a conservat...</td>\n",
              "      <td>politicsNews</td>\n",
              "      <td>December 31, 2017</td>\n",
              "    </tr>\n",
              "    <tr>\n",
              "      <th>1</th>\n",
              "      <td>U.S. military to accept transgender recruits o...</td>\n",
              "      <td>WASHINGTON (Reuters) - Transgender people will...</td>\n",
              "      <td>politicsNews</td>\n",
              "      <td>December 29, 2017</td>\n",
              "    </tr>\n",
              "    <tr>\n",
              "      <th>2</th>\n",
              "      <td>Senior U.S. Republican senator: 'Let Mr. Muell...</td>\n",
              "      <td>WASHINGTON (Reuters) - The special counsel inv...</td>\n",
              "      <td>politicsNews</td>\n",
              "      <td>December 31, 2017</td>\n",
              "    </tr>\n",
              "    <tr>\n",
              "      <th>3</th>\n",
              "      <td>FBI Russia probe helped by Australian diplomat...</td>\n",
              "      <td>WASHINGTON (Reuters) - Trump campaign adviser ...</td>\n",
              "      <td>politicsNews</td>\n",
              "      <td>December 30, 2017</td>\n",
              "    </tr>\n",
              "    <tr>\n",
              "      <th>4</th>\n",
              "      <td>Trump wants Postal Service to charge 'much mor...</td>\n",
              "      <td>SEATTLE/WASHINGTON (Reuters) - President Donal...</td>\n",
              "      <td>politicsNews</td>\n",
              "      <td>December 29, 2017</td>\n",
              "    </tr>\n",
              "  </tbody>\n",
              "</table>\n",
              "</div>\n",
              "      <button class=\"colab-df-convert\" onclick=\"convertToInteractive('df-2a6a7618-30a7-4051-8045-0f7eeb3ea23c')\"\n",
              "              title=\"Convert this dataframe to an interactive table.\"\n",
              "              style=\"display:none;\">\n",
              "        \n",
              "  <svg xmlns=\"http://www.w3.org/2000/svg\" height=\"24px\"viewBox=\"0 0 24 24\"\n",
              "       width=\"24px\">\n",
              "    <path d=\"M0 0h24v24H0V0z\" fill=\"none\"/>\n",
              "    <path d=\"M18.56 5.44l.94 2.06.94-2.06 2.06-.94-2.06-.94-.94-2.06-.94 2.06-2.06.94zm-11 1L8.5 8.5l.94-2.06 2.06-.94-2.06-.94L8.5 2.5l-.94 2.06-2.06.94zm10 10l.94 2.06.94-2.06 2.06-.94-2.06-.94-.94-2.06-.94 2.06-2.06.94z\"/><path d=\"M17.41 7.96l-1.37-1.37c-.4-.4-.92-.59-1.43-.59-.52 0-1.04.2-1.43.59L10.3 9.45l-7.72 7.72c-.78.78-.78 2.05 0 2.83L4 21.41c.39.39.9.59 1.41.59.51 0 1.02-.2 1.41-.59l7.78-7.78 2.81-2.81c.8-.78.8-2.07 0-2.86zM5.41 20L4 18.59l7.72-7.72 1.47 1.35L5.41 20z\"/>\n",
              "  </svg>\n",
              "      </button>\n",
              "      \n",
              "  <style>\n",
              "    .colab-df-container {\n",
              "      display:flex;\n",
              "      flex-wrap:wrap;\n",
              "      gap: 12px;\n",
              "    }\n",
              "\n",
              "    .colab-df-convert {\n",
              "      background-color: #E8F0FE;\n",
              "      border: none;\n",
              "      border-radius: 50%;\n",
              "      cursor: pointer;\n",
              "      display: none;\n",
              "      fill: #1967D2;\n",
              "      height: 32px;\n",
              "      padding: 0 0 0 0;\n",
              "      width: 32px;\n",
              "    }\n",
              "\n",
              "    .colab-df-convert:hover {\n",
              "      background-color: #E2EBFA;\n",
              "      box-shadow: 0px 1px 2px rgba(60, 64, 67, 0.3), 0px 1px 3px 1px rgba(60, 64, 67, 0.15);\n",
              "      fill: #174EA6;\n",
              "    }\n",
              "\n",
              "    [theme=dark] .colab-df-convert {\n",
              "      background-color: #3B4455;\n",
              "      fill: #D2E3FC;\n",
              "    }\n",
              "\n",
              "    [theme=dark] .colab-df-convert:hover {\n",
              "      background-color: #434B5C;\n",
              "      box-shadow: 0px 1px 3px 1px rgba(0, 0, 0, 0.15);\n",
              "      filter: drop-shadow(0px 1px 2px rgba(0, 0, 0, 0.3));\n",
              "      fill: #FFFFFF;\n",
              "    }\n",
              "  </style>\n",
              "\n",
              "      <script>\n",
              "        const buttonEl =\n",
              "          document.querySelector('#df-2a6a7618-30a7-4051-8045-0f7eeb3ea23c button.colab-df-convert');\n",
              "        buttonEl.style.display =\n",
              "          google.colab.kernel.accessAllowed ? 'block' : 'none';\n",
              "\n",
              "        async function convertToInteractive(key) {\n",
              "          const element = document.querySelector('#df-2a6a7618-30a7-4051-8045-0f7eeb3ea23c');\n",
              "          const dataTable =\n",
              "            await google.colab.kernel.invokeFunction('convertToInteractive',\n",
              "                                                     [key], {});\n",
              "          if (!dataTable) return;\n",
              "\n",
              "          const docLinkHtml = 'Like what you see? Visit the ' +\n",
              "            '<a target=\"_blank\" href=https://colab.research.google.com/notebooks/data_table.ipynb>data table notebook</a>'\n",
              "            + ' to learn more about interactive tables.';\n",
              "          element.innerHTML = '';\n",
              "          dataTable['output_type'] = 'display_data';\n",
              "          await google.colab.output.renderOutput(dataTable, element);\n",
              "          const docLink = document.createElement('div');\n",
              "          docLink.innerHTML = docLinkHtml;\n",
              "          element.appendChild(docLink);\n",
              "        }\n",
              "      </script>\n",
              "    </div>\n",
              "  </div>\n",
              "  "
            ]
          },
          "metadata": {},
          "execution_count": 5
        }
      ]
    },
    {
      "cell_type": "markdown",
      "source": [
        "### Remove news articles that are either too short or too long"
      ],
      "metadata": {
        "id": "q4lrosFHltpM"
      }
    },
    {
      "cell_type": "code",
      "source": [
        "df_fake['length'] = df_fake['text'].apply(lambda x: len(x.strip().split(' ')))\n",
        "df_true['length'] = df_true['text'].apply(lambda x: len(x.strip().split(' ')))\n",
        "\n",
        "min(df_fake['length']), max(df_fake['length']), min(df_true['length']), max(df_true['length'])"
      ],
      "metadata": {
        "colab": {
          "base_uri": "https://localhost:8080/"
        },
        "id": "52mTpmJhDv6c",
        "outputId": "0ad608cd-daec-4f51-f10c-9459deeed053"
      },
      "execution_count": null,
      "outputs": [
        {
          "output_type": "execute_result",
          "data": {
            "text/plain": [
              "(1, 8435, 1, 5174)"
            ]
          },
          "metadata": {},
          "execution_count": 6
        }
      ]
    },
    {
      "cell_type": "code",
      "source": [
        "fake_news = df_fake[(df_fake['length'] > 20) & (df_fake['length'] < 800)]['text'].values\n",
        "true_news = df_true[(df_true['length'] > 20) & (df_true['length'] < 800)]['text'].values\n",
        "\n",
        "fake_news.shape, true_news.shape"
      ],
      "metadata": {
        "colab": {
          "base_uri": "https://localhost:8080/"
        },
        "id": "ZPYzN4ba43ar",
        "outputId": "e1b3c092-b3bc-4d44-ca53-35717723e1f2"
      },
      "execution_count": null,
      "outputs": [
        {
          "output_type": "execute_result",
          "data": {
            "text/plain": [
              "((20489,), (19384,))"
            ]
          },
          "metadata": {},
          "execution_count": 7
        }
      ]
    },
    {
      "cell_type": "code",
      "source": [
        "fig = plt.figure(figsize=(5,5))\n",
        "labels = [\"True News\", \"Fake News\"]\n",
        "sizes = [len(true_news), len(fake_news)]\n",
        "plt.pie(sizes, labels=labels, shadow=False, autopct=\"%1.1f%%\", startangle=90)\n",
        "plt.axis(\"Equal\")\n",
        "plt.show()"
      ],
      "metadata": {
        "colab": {
          "base_uri": "https://localhost:8080/",
          "height": 303
        },
        "id": "LLj4H8q-Bfnk",
        "outputId": "0b2ab101-fa08-4387-c4f2-313c8a2122e7"
      },
      "execution_count": null,
      "outputs": [
        {
          "output_type": "display_data",
          "data": {
            "text/plain": [
              "<Figure size 360x360 with 1 Axes>"
            ],
            "image/png": "[encoded data removed]"
          },
          "metadata": {}
        }
      ]
    },
    {
      "cell_type": "markdown",
      "source": [
        "### Sample News Articles"
      ],
      "metadata": {
        "id": "A2vmkH_9l_S_"
      }
    },
    {
      "cell_type": "code",
      "source": [
        "\n",
        "# print true news in green\n",
        "print(\"\\033[92m\", true_news[random.randint(0,len(true_news)-1)])\n",
        "print(\"\\033[92m\", true_news[random.randint(0,len(true_news)-1)])\n",
        "print(\"\\033[92m\", true_news[random.randint(0,len(true_news)-1)])\n",
        "\n",
        "# print fake news in red\n",
        "print(\"\\33[91m\", fake_news[random.randint(0,len(fake_news)-1)])\n",
        "print(\"\\33[91m\", fake_news[random.randint(0,len(fake_news)-1)])\n",
        "print(\"\\33[91m\", fake_news[random.randint(0,len(fake_news)-1)])"
      ],
      "metadata": {
        "colab": {
          "base_uri": "https://localhost:8080/"
        },
        "id": "IaHdiCc8DDXc",
        "outputId": "1b6f0cc5-4a3c-4c15-9ee0-d988590a30e2"
      },
      "execution_count": null,
      "outputs": [
        {
          "output_type": "stream",
          "name": "stdout",
          "text": [
            "\u001b[92m MADRID (Reuters) - Emergency services have attended to 38 people injured in police charges as officers stormed voting stations to stop a banned referendum on independence from Spain in the northeastern region of Catalonia, the Catalan emergency services said on Sunday. Most of those people sustained slight injuries and three suffered more serious injuries, the Catalan services said on Twitter. \n",
            "\u001b[92m HAVANA (Reuters) - Cuba took another step on Sunday toward the end of the Castro era, with millions of residents placing paper ballots in cardboard boxes for ward delegates to municipal assemblies. The vote comes the day after the first anniversary of revolutionary leader Fidel Castro s death and precedes another election early next year for provincial and national assembly deputies. The new national assembly, where 50 percent of the deputies must be ward delegates elected on Sunday, is expected on Feb. 24 to select a new president to replace Raul Castro, Fidel s 86-year-old younger brother, who has said he will step down after serving two five-year terms. The Castro brothers have headed the government since the 1959 revolution. Raul Castro will remain head of the Communist Party until 2021, the only legal party in Cuba. Nearly 27,000 candidates are running for 12,515 ward positions in Sunday s election, the only part of the electoral process that is contested publicly and with direct participation by ordinary Cubans. The results will be announced on Monday. The candidates for the provincial and national assemblies are nominated by commissions composed of representatives of Communist Party-controlled organizations, such as the trade union federation, then presented as a slate for a public vote. Those slates have had the same number of names as seats in previous elections. Fifty percent of those names must be ward delegates. The electoral cycle comes at a tricky time for the Caribbean nation as the revolutionary generation passes, an economic reform program appears stalled, aid from key ally Venezuela shrinks, and the Trump administration threatens. Yet candidates debated none of these issues before Sunday s vote. First Vice President Miguel Diaz-Canel, who is expected to succeed Castro, lauded the electoral process and refused to speculate about his future.  Today is a day to talk about what we are doing and Fidel,  he told reporters after casting his ballot. Asked about relations with the United States, he said Cuba remained interested in improving them, but reiterated its position that negotiations would have to be based on mutual respect and equality and without dictates.  The future depends on them, not us,  he said. Campaigning is prohibited in Cuba, and candidates for the ward posts were nominated at neighborhood meetings based on their personal merits, not policy positions. They need not belong to the Communist Party, and many candidates are independents, but only a few government opponents have ever competed.  I am happy to vote, but I must say, like most young people I do not think it makes any difference,  said a young woman, who requested anonymity because she holds an important government job. She added that there was an ongoing discussion on how to reform the electoral process and make government more responsive. This year a coalition of opposition groups ran more than 160 pre-candidates, but most were blocked by state security from nomination meetings, and none are running on Sunday. \n",
            "\u001b[92m DUBAI (Reuters) - An Iranian vessel with 19 sailors on board has been seized near a Yemeni island by local fishermen, Yemen s prime minister said on Saturday. There was no immediate official Iranian reaction to the comments made by Ahmed Obeid bin Daghr on his Twitter account in which he said the ship was detained off the coast of Socotra, the largest island in an archipelago south of Yemen.  He thanked the fishermen of another island in the archipelago, Abd al-Kuri, which lies to the east of Somalia. Iran s semi-official Fars news agency said that the Yemeni government, which Tehran does not recognize, had  claimed  that an Iranian vessel with a crew of 19 had been seized on Friday. There were no further details on the ship or its cargo. Regional and Western sources have said that Iran is sending advanced weapons and military advisers to Yemen s rebel Houthi movement, stepping up support for its Shi ite ally in the country s civil war. Iran rejects accusations from Saudi Arabia that it is giving financial and military support to the Houthis, blaming the crisis on Riyadh. \n",
            "\u001b[91m Another day, another real Trump controversy. While the media hyper-focuses on Hillary Clinton s  pay-for-play  scandal (that wasn t actually a scandal, just crappy reporting from the Associated Press), a Washington Post report has found a major smoking gun regarding the Trump Foundation:Donald Trump spent more than a quarter-million dollars from his charitable foundation to settle lawsuits that involved the billionaire s for-profit businesses, according to interviews and a review of legal documents.Totaling over $258,000 in Foundation money, Trump may have been involved in has violated laws against  what is known as  self-dealing  (something Trump is used to) which prohibits nonprofit leaders from using their charity s money to benefit themselves or their private businesses.So not only has the Trump Foundation been found to have illegally contributed to politicians, it has been found to be engaging in self-dealing. And people think the Clinton Foundation is immoral?Here are some of the examples:According to the Post:In those cases, tax experts said, Trump was not allowed to simply keep these items and display them in a home or business. They had to be put to a charitable use.He did not use the paintings nor the helmet for charitable use, but rather personal use. Which is, as tax experts and the laws say, is illegal.So turns out the only  crooked  one in this race is Donald Trump, and the only fraud isn t the Clinton foundation, but the Trump Foundation. Illegal contributions, illegal lawsuit payoffs, and personal gifts with other people s money (for non charitable use).Of course, the Clinton campaign hit on the issue, saying Trump is a fraud who believes the rules don t apply to him,   and that  Clearly the Trump Foundation is as much a charitable organization as Trump University is an institute of higher education.  Ouch.Let s see Fox News and the Trump camp try to spin this.Simply put, Trump needs to be forced to pay back all that he stole from donors and all that was used illegally. And if doesn t, he should be prosecuted for being the fraud he is.Featured image via Spencer Platt/Getty Images\n",
            "\u001b[91m It s good to know there are a few Hollywood celebrities who haven t bought into Obama s false messiah B.S During an appearance before the U.K. s House of Lords on Tuesday, Hollywood actress and human rights advocate Angelina Jolie spoke out about how Islamic State group militants use sexual violence as a means to perpetuate terrorism   and about how we need strong leadership (unlike that of President Barack Obama) to overcome this threat.Jolie s excoriating speech laid bare just how anemic and pitiful Obama s response to ISIS has been, and how ISIS is being allowed to build a society based on rape, violence, and of course Shariah law. They are dictating it as policy beyond what we have seen before,  Jolie said.  They are saying,  We should do this, this is the right way to build a society, so we tell you to rape. Islamic militants are basically building a civilization not focused on growing food or educating children, but rather on kidnapping, enslaving and raping women, to perpetuate the endless cycle of terrorism, and Obama has allowed these barbaric radical Muslims to thrive. The most aggressive terrorist group in the world today knows what we know, knows that it is a very effective weapon and they are using it as a centrepoint of their terror and their way of destroying communities and families, and attacking and dehumanising,  Jolie explained. For over 10 years, I had been visiting the field and meeting families and survivors of sexual violence who felt for so long that their voices simply didn t mater, they weren t heard, and they carried a great shame,  Jolie continued.She added that we need  a very, very strong response at this time  to stop this horrific behavior. Of course, we have been calling on Obama to make that strong response for years, but he s far more interested in race baiting back home than dealing a death blow to radical Islam.Jolie does have some measure of expertise in the matters she s speaking of. As she told the Houses of Parliament, she has been campaigning for Middle Eastern victims of sexual abuse for over a decade (H/T The Gateway Pundit).Below is an excerpt of Jolie s address, this part dealing with some of her encounters with young rape victims.https://youtu.be/KBmHnzjgwSkIt seems like Jolie is someone whose words President Obama should heed. Will our president actually take the time though to listen, learn and adjust his failed strategy against what he once referred to as the  JV team? Only time will tell   but we wouldn t want to put any money on it. Via: Conservative Tribune\n",
            "\u001b[91m A pair of high school students who take classes at SUNY Oswego via a specialized program are upset at an assignment their  Principles of Literary Representation  class received: Defend Hitler s Final Solution.CiTi/BOCES New Vision program teacher Michael DeNobile handed out a  Top Secret memorandum  to the class  addressed to senior Nazi party members.  It asked students  to put themselves in the shoes of Adolf Hitler s top aides,  according to a report at Syracuse.com.Students Archer Shurtliff and Jordan April, who ended up on opposite sides of the, er,  debate  wondered: Does DeNobile really want students to argue in favor of  the Nazis  justification for genocide? Although the lesson does tell students it is  not for you to be sympathetic to the Nazi point of view,  and is just  an exercise on expanding your point of view,  Shurtliff and April allege it created a rather intolerant atmosphere.One student did a Nazi salute in class, they say, and another said he wished he d been assigned the pro-Holocaust side  because Heil Hitler, duh. From the story:The students brought their concerns over the assignment to DeNobile, administrators in the New Vision program and educators at their home schools.The classroom assignment took them on a mission: To make sure no other student would be asked to argue in favor of killing Jews again.They carefully documented each meeting and conversation with their teachers. They researched other cases, including one in which a teacher was disciplined.They came up with dozens of alternate assignments and materials that didn t force kids to argue on behalf of mass killings. They contacted the Anti-Defamation League, which advocates for Jews.Within a few days, an alternative assignment was offered. Jordan wrote about America s AIDS crisis and response. Archer wrote about the internment of Japanese-Americans and compensation paid to survivors.The students said they weren t satisfied with the administration s response.They are calling for an apology, for the program to retract the assignment completely, and agree to never give it again.Despite the alternative assignment offered, many chose to stick with the original.Archer and Jordan say DeNobile and administrators defended the assignment, claiming they were told  the essay was a lesson in having to do things you don t like, and in seeing the other side of an argument. But Shurtliff shoots down this rationalization rather easily:  It s settled opinion. You can t say that Jews deserve to die. It should be a settled thing. In a letter to New Vision officials, Anti-Defamation League Education Director Beth Martinez wroteThere is no assignment that could ever be given to students that even hints at their [sic] being  two sides  to the  Final Solution /Holocaust that would be pedagogically or morally sound, and we are very disturbed that students are reportedly being asked to be a part of this.Indeed, the assignment says the objective is for students to go  outside [their] comfort zone  and to train their brains  to logistically find the evidence necessary to prove a point. High schoolers   vouching for the annihilation of an entire people is   merely going  outside their comfort zone ? Lovely.For entire story: College Fix\n"
          ]
        }
      ]
    },
    {
      "cell_type": "markdown",
      "source": [
        "### Remove \"(Reuters)\" from the true news articles"
      ],
      "metadata": {
        "id": "h2ArryRCmIxW"
      }
    },
    {
      "cell_type": "code",
      "source": [
        "true_news_aug = []\n",
        "for article in true_news:\n",
        "  if '(Reuters) -' in article and article.index('(Reuters) -') < 50:\n",
        "    i = article.index('(Reuters) -')+len('(Reuters) -')\n",
        "    true_news_aug.append(article[i:].strip())\n",
        "  else:\n",
        "    true_news_aug.append(article)"
      ],
      "metadata": {
        "id": "JUUo9SQZeU0a"
      },
      "execution_count": null,
      "outputs": []
    },
    {
      "cell_type": "code",
      "source": [
        "# print true news in green\n",
        "print(\"\\033[92m\", true_news_aug[random.randint(0,len(true_news_aug)-1)])\n",
        "print(\"\\033[92m\", true_news_aug[random.randint(0,len(true_news_aug)-1)])\n",
        "print(\"\\033[92m\", true_news_aug[random.randint(0,len(true_news_aug)-1)])\n",
        "\n",
        "# print fake news in red\n",
        "print(\"\\33[91m\", fake_news[random.randint(0,len(fake_news)-1)])\n",
        "print(\"\\33[91m\", fake_news[random.randint(0,len(fake_news)-1)])\n",
        "print(\"\\33[91m\", fake_news[random.randint(0,len(fake_news)-1)])"
      ],
      "metadata": {
        "colab": {
          "base_uri": "https://localhost:8080/"
        },
        "id": "Lie_NV26gnMd",
        "outputId": "a246468e-f056-496d-dc93-fb6e24946d15"
      },
      "execution_count": null,
      "outputs": [
        {
          "output_type": "stream",
          "name": "stdout",
          "text": [
            "\u001b[92m Three congressional committees are scuffling over a former British spy’s reports that are central to investigations into U.S. allegations that Russia tried to help Donald Trump’s 2016 presidential campaign, people involved in the inquiries said. The dossier assembled by former MI6 officer Christopher Steele outlined Russian financial and personal links to Trump’s campaign and associates. The Senate Intelligence Committee and special counsel Robert Mueller are looking into possible collusion between Russia and Trump’s campaign and Mueller’s investigators have met with Steele.  However, the Republican chairmen of the House Intelligence and Senate Judiciary committees are challenging the dossier’s credibility and one has implied that Russians may have played a role in its preparation, sources familiar with the inquiries said. The duel is not purely partisan. Senator Richard Burr, the Republican chairman of the Senate Intelligence Committee, and Mark Warner, the committee’s ranking Democrat, are leading what other committee members from both parties called a serious effort to pursue the allegations dug up by Steele. “As I understand it, a good deal of his information remains unproven, but none of it has been disproven, and considerable amounts of it have been proven,” Democrat Sheldon Whitehouse, a member of the Senate Judiciary Committee, said in an interview with Reuters. He did not elaborate. Russia has repeatedly denied any interference in last November’s election won by businessman Trump, a Republican, against Democrat and former secretary of state Hillary Clinton. Trump has denied any collusion by his campaign or associates.    In a report published in January four U.S. intelligence agencies said they took the dossier’s allegations seriously. Senate Judiciary Committee Chairman Chuck Grassley has been the harshest public critic of Steele, suggesting that Russia might have somehow had influence with Fusion GPS, the U.S. opposition research firm that hired Steele, and that they may have broken U.S. law. The dossier was first commissioned on behalf of Trump opponents in the Republican primary and then Democrats took it up when Trump became the presidential nominee. Steele met with FBI representatives before the election to discuss his findings. In a March 6 letter to then-FBI Director James Comey, Grassley wrote: “The idea that the FBI and associates of the Clinton campaign would pay Mr. Steele to investigate the Republican nominee for president in the run-up to the election raises further questions about the FBI’s independence from politics, as well as the Obama administration’s use of law enforcement and intelligence agencies for political ends.”     Whitehouse, however, said that a July 27 Judiciary Committee hearing called by Grassley was part of a Republican effort to discredit Steele by creating “confusion” and the false impression that Russia paid Steele for the dossier.     “It could not have been clearer that there is no evidence of any Russian role behind the Steele dossier,” Whitehouse said. A Judiciary Committee aide, speaking on the condition of anonymity, said: “The American people need to be able to trust that the FBI and Justice Department are operating free from political influence. That’s what this investigation is about, and we will follow the facts wherever they lead.”     Despite recusing himself in April from the House Intelligence Committee investigation, the Republican chairman, Devin Nunes, is also trying to discredit Steele’s work, sources familiar with the probe said. On Tuesday, Nunes subpoenaed the partners who run Fusion GPS, the U.S. opposition research firm that hired Steele, a source familiar with the matter said. “This is a blatant attempt to undermine the reporting of the so-called ‘dossier,’ even as its core conclusion of a broad campaign by the Russian government to influence the outcome of the 2016 presidential election has been confirmed by the U.S. intelligence community and is now widely accepted as fact,” Joshua Levy, counsel to Fusion GPS, said in a statement. Committee Democrat Eric Swalwell also fired back, saying Nunes told Congress he had recused himself and that issuing the subpoenas would violate that recusal. “It is also a way to go it alone, not work with Democrats, and it looks like he is trying to again undermine the investigation,” Swalwell said. Nunes also used his power last month to issue subpoenas to the FBI and Justice Department, FBI Director Christopher Wray and Deputy Attorney General Rod Rosenstein, demanding that they surrender their files on Steele, his dossier, and their investigations into his work. So far, the Justice Department and FBI have not turned over the information Nunes requested because of the FBI investigation, which is supervised by special counsel Mueller. Mueller’s office declined to comment on the request or the investigation.\n",
            "\u001b[92m The United Nations human rights office is  appalled  at the hanging of 38 prisoners in Iraq, a U.N. spokeswoman said on Friday, a day after the executions at a prison in the southern Iraqi city of Nassiriya.  We are deeply shocked and appalled at the mass execution,  the spokeswoman, Liz Throssell, told a regular U.N. briefing in Geneva, adding that the human rights office had  huge concerns  about Iraq s use of the death penalty and - not for the first time - urged the government to halt all executions.  Given the flaws of the Iraqi justice system, it also appears extremely doubtful that strict due process and fair trial guarantees were followed in these 38 cases. This raises the prospect of irreversible miscarriages of justice and violations of the right to life.  The 38 male prisoners were convicted by Iraq s judiciary for terrorism-related crimes, she said. She did not have information on their ages or nationalities. In September, Iraq hanged 42 prisoners in a single day, and the U.N. has learned of 106 executions this year, Throssell said. Last year the Ministry of Justice announced 88 executions, but the U.N. believes the number may have been as high as 116. The world body had repeatedly asked the Ministry of Justice for data about prisoners, sentencing and executions but no such information had been provided since 2015, she said. Previously the United Nations had spoken of about 1,200 people being on death row, but it was now impossible to confirm that information, she said.   The Justice Ministry said in a statement on Thursday that all those convicted were members of Islamic State. Officials have said all the appeal options available to the condemned had been exhausted, according to the statement.\n",
            "\u001b[92m The United States hopes to find a diplomatic solution to the situation in North Korea and is addressing it through an international process, U.S. Defense Secretary Jim Mattis said on Tuesday, hours after President Donald Trump, in a U.N. address, escalated his standoff with Pyongyang.  We are dealing with the North Korea situation through the international process and we will continue to do so. Secretary Tillerson is leading the effort and we will hopefully get this resolved through diplomatic means,  Mattis said before the start of a meeting with Romania s defense minister.\n",
            "\u001b[91m Barack Obama is above the law his daughter is above the law their friends are above the law Chicago politics at its finest.Smoking pot and twerking at Lollapalooza are the least of Malia Obama s problems after it was just discovered who her male friend is. Her right-hand man who was seen partying by her side and taking drags off her joint isn t exactly the person you would want your daughter hanging out with, but it doesn t seem to be a problem for Barack.Radar Online, who broke the news about Malia smoking pot at Lollapalooza, has learned that the 20-year-old guy by her side in that leaked footage is rapper Taylor Bennett, who is well known by cops in Cook County, Illinois, and he is now in trouble with the law again.The victim of the brutal attack that sparked Bennett s legal issues was left with  bleeding on the brain,  when Bennett and a friend fled the scene. He turned himself in to police a month later, according to the police report obtained by Radar. He was charged with a felony and two misdemeanors and pleaded no contest in April 2016, in exchange for his probationThis thug was let off easy after committing that crime since he was given summary probation in lieu of jail time, after pleading no contest to one felony and two misdemeanors he was charged with. However, on August 4, 2016, right after partying with the president s daughter, he was found to be in  violation of supervision  and ordered back to court for probation violation, Radar reported.Bennett is the younger brother of Chance the Rapper and son of a politically connected dad who worked for both President Barack Obama and Mayor Rahm Emanuel.Chancelor Bennett (better known as  Chance The Rapper ) is seen above in the center of the photo with his brother, Taylor, and their father Ken. The Bennett brothers are making waves in hip hop music while their father is becoming a powerful force in Chicago politics. As an integrated effort, Chance and Taylor s music helps their dad s boss  Mayor Rahm Emanuel  reach young voters; in turn, Mr. Bennett s roles as First Deputy Chief of Staff and Director of Public Engagement allow him to further his sons  careers by exposing them to new cultural settings.Mr. Bennett is the highest-paid African-American in the Mayor s Office.While most fathers wouldn t want their daughters hanging around a violent thug like this, when your dad is an adamant supporter of Black Lives Matter and mom hangs out with rappers, guys like this are who they want in their family s inner circle.  MWN\n",
            "\u001b[91m This is not the first time Putin has warned the US to hurry up with its release of Hillary s emails. Biden better get the emergency campaign team ready. If Putin releases the unedited, corrupt version of Hillary s highly classified emails, Crooked Hillary will not likely be able to overcome the damage that will be done to what s left of her reputation. Reliable intelligence sources in the West have indicated that warnings had been received that the Russian Government could in the near future release the text of email messages intercepted from U.S. Presidential candidate Hillary Clinton s private e-mail server from the time she was U.S. Secretary of State. The release would, the messaging indicated, prove that Secretary Clinton had, in fact, laid open U.S. secrets to foreign interception by putting highly-classified Government reports onto a private server in violation of U.S. law, and that, as suspected, the server had been targeted and hacked by foreign intelligence services.The reports indicated that the decision as to whether to reveal the intercepts would be made by Russian Federation President Vladimir Putin, and it was possible that the release would, if made, be through a third party, such as Wikileaks. The apparent message from Moscow, through the intelligence community, seemed to indicate frustration with the pace of the official U.S. Department of Justice investigation into the so-called server scandal, which seemed to offer prima facie evidence that U.S. law had been violated by Mrs Clinton s decision to use a private server through which to conduct official and often highly-secret communications during her time as Secretary of State. U.S.Sources indicated that the extensive Deptartment of Justice probe was more focused on the possibility that the private server was used to protect messaging in which Secretary Clinton allegedly discussed quid pro quo transactions with private donors to the Clinton Foundation in exchange for influence on U.S. policy.The Russian possession of the intercepts, however, was designed also to show that, apart from violating U.S. law in the fundamental handling of classified documents (which Sec. Clinton had alleged was no worse than the mishandling of a few documents by CIA Director David Petraeus or Clinton s National Security Advisor Sandy Berger), the traffic included highly-classified materials which had their classification headers stripped. Russian (and other) sources had indicated frustration with the pace of the Justice Dept. probe, and its avoidance of the national security aspects of intelligence handling. This meant that the topic would be suppressed by the U.S. Barack Obama Administration so that it would not be a factor in the current U.S. Presidential election campaign, in which President Obama had endorsed Mrs Clinton. via: Oilprice.com\n",
            "\u001b[91m Progressive hero Alan Grayson is best known as the member of congress who has introduced more legislation than any other. He s remembered for his statements on the GOP s lack of a plan for health insurance, stating  their plan is, if you get sick, you die.  He s also well-known for comparing the Tea Party to the KKK.From the outside, Grayson is a true American success story. Born in the Bronx, Grayson managed to make his way through Harvard Law, becoming a multi-millionaire as a trial lawyer. On the inside, however, some serious questions have arisen.A House Ethics Committee investigation is underway looking into a trio of hedge funds operated by Grayson that may have broken several rules for second-source income, use of congressional staffers for private enterprise and misuse of government travel expenses. Two of the hedge funds, that have since been closed, were located in the Cayman Islands, and one in the US.As a United States Congressman, Grayson is forbidden from earning more than $27,500 from a second source. While he states he had no taxable income from the funds during his time as a congressman, which include terms from 2009-2011 and 2013 to present. Grayson started the funds in 2012 while not serving, but kept them open when he won reelection for 2013. The question of his income comes because he was still listed as a manager of the fund, which typically comes with a price tag.Emails from Grayson s staff, as well as income disclosures, show that at least one of his staffers appeared to be employed by the fund and the congressman at the same time. Though the earnings were as light as $1K per month, there are still clear ethics violations that have to be investigated.Evidence also shows that Grayson has used taxpayer funds to manage the fund from abroad and possibly to solicit new investors to the fund, a charge he vehemently denies. While on a trip to Tampa to present a proposal for increases to social security in August 2015, Grayson reportedly scuttled his agenda to manage the hedge fund as markets bottomed out across the globe because of turmoil in China.What this all spells is big trouble for Alan Grayson. He s convinced that the DNC is working against him in a bid to see another Democrat elected to the senate seat being vacated by Marco Rubio. Unfortunately, the most disturbing news about Grayson and his hedge fund comes from his own brochures and admissions, where he asserts that the philosophy of the fund is to invest in low-cost markets where political turmoil, civil unrest, war, famine and  blood in the streets  offers unique opportunities when the area rebuilds.His funds have all but failed, and his investors have all been paid back what they have lost, making him quite possibly the most decent of congressional rule-breakers, but a rule breaker nonetheless.\n"
          ]
        }
      ]
    },
    {
      "cell_type": "markdown",
      "source": [
        "### Train Test Split"
      ],
      "metadata": {
        "id": "mdUdxhcjmfcN"
      }
    },
    {
      "cell_type": "code",
      "source": [
        "from sklearn.model_selection import train_test_split\n",
        "\n",
        "X = np.concatenate([true_news_aug, fake_news])\n",
        "y = np.concatenate([[0]*len(true_news_aug), [1]*len(fake_news)])\n",
        "\n",
        "X_train, X_test, y_train, y_test = train_test_split(X, y, test_size=0.2, random_state=42)\n",
        "X_train.shape, X_test.shape, y_train.shape, y_test.shape"
      ],
      "metadata": {
        "colab": {
          "base_uri": "https://localhost:8080/"
        },
        "id": "2Z2sEdFmDYri",
        "outputId": "a2f26bfc-56fb-4cb0-c207-3d56da4719f5"
      },
      "execution_count": null,
      "outputs": [
        {
          "output_type": "execute_result",
          "data": {
            "text/plain": [
              "((31898,), (7975,), (31898,), (7975,))"
            ]
          },
          "metadata": {},
          "execution_count": 12
        }
      ]
    },
    {
      "cell_type": "markdown",
      "source": [
        "### Fine Tuning BERT"
      ],
      "metadata": {
        "id": "PlDDCjSnJeaR"
      }
    },
    {
      "cell_type": "code",
      "source": [
        "!pip install -q -U \"tensorflow-text==2.8.*\""
      ],
      "metadata": {
        "colab": {
          "base_uri": "https://localhost:8080/"
        },
        "id": "RUsVDgupJ5-E",
        "outputId": "fbac49a3-3d40-416d-d99e-4aec652ecdde"
      },
      "execution_count": null,
      "outputs": [
        {
          "output_type": "stream",
          "name": "stdout",
          "text": [
            "\u001b[2K     \u001b[90m━━━━━━━━━━━━━━━━━━━━━━━━━━━━━━━━━━━━━━━━\u001b[0m \u001b[32m4.9/4.9 MB\u001b[0m \u001b[31m13.9 MB/s\u001b[0m eta \u001b[36m0:00:00\u001b[0m\n",
            "\u001b[2K     \u001b[90m━━━━━━━━━━━━━━━━━━━━━━━━━━━━━━━━━━━━━━━\u001b[0m \u001b[32m498.1/498.1 MB\u001b[0m \u001b[31m3.0 MB/s\u001b[0m eta \u001b[36m0:00:00\u001b[0m\n",
            "\u001b[2K     \u001b[90m━━━━━━━━━━━━━━━━━━━━━━━━━━━━━━━━━━━━━━━━\u001b[0m \u001b[32m42.6/42.6 KB\u001b[0m \u001b[31m5.2 MB/s\u001b[0m eta \u001b[36m0:00:00\u001b[0m\n",
            "\u001b[2K     \u001b[90m━━━━━━━━━━━━━━━━━━━━━━━━━━━━━━━━━━━━━━━━\u001b[0m \u001b[32m1.4/1.4 MB\u001b[0m \u001b[31m3.7 MB/s\u001b[0m eta \u001b[36m0:00:00\u001b[0m\n",
            "\u001b[2K     \u001b[90m━━━━━━━━━━━━━━━━━━━━━━━━━━━━━━━━━━━━━━\u001b[0m \u001b[32m462.3/462.3 KB\u001b[0m \u001b[31m10.2 MB/s\u001b[0m eta \u001b[36m0:00:00\u001b[0m\n",
            "\u001b[2K     \u001b[90m━━━━━━━━━━━━━━━━━━━━━━━━━━━━━━━━━━━━━━━━\u001b[0m \u001b[32m5.8/5.8 MB\u001b[0m \u001b[31m26.8 MB/s\u001b[0m eta \u001b[36m0:00:00\u001b[0m\n",
            "\u001b[?25h"
          ]
        }
      ]
    },
    {
      "cell_type": "code",
      "source": [
        "!pip install -q tf-models-official==2.7.0"
      ],
      "metadata": {
        "colab": {
          "base_uri": "https://localhost:8080/"
        },
        "id": "que_k8OiKBKV",
        "outputId": "d8148d8b-aa7f-4ae2-b4cf-3d3e47b4c747"
      },
      "execution_count": null,
      "outputs": [
        {
          "output_type": "stream",
          "name": "stdout",
          "text": [
            "\u001b[?25l     \u001b[90m━━━━━━━━━━━━━━━━━━━━━━━━━━━━━━━━━━━━━━━━\u001b[0m \u001b[32m0.0/1.8 MB\u001b[0m \u001b[31m?\u001b[0m eta \u001b[36m-:--:--\u001b[0m\r\u001b[2K     \u001b[91m━━━━━━━━\u001b[0m\u001b[90m╺\u001b[0m\u001b[90m━━━━━━━━━━━━━━━━━━━━━━━━━━━━━━━\u001b[0m \u001b[32m0.4/1.8 MB\u001b[0m \u001b[31m10.8 MB/s\u001b[0m eta \u001b[36m0:00:01\u001b[0m\r\u001b[2K     \u001b[91m━━━━━━━━━━━━━━━━━━━━━━━━━━━━━━━━━━━━━━━\u001b[0m\u001b[91m╸\u001b[0m \u001b[32m1.8/1.8 MB\u001b[0m \u001b[31m32.0 MB/s\u001b[0m eta \u001b[36m0:00:01\u001b[0m\r\u001b[2K     \u001b[90m━━━━━━━━━━━━━━━━━━━━━━━━━━━━━━━━━━━━━━━━\u001b[0m \u001b[32m1.8/1.8 MB\u001b[0m \u001b[31m25.5 MB/s\u001b[0m eta \u001b[36m0:00:00\u001b[0m\n",
            "\u001b[2K     \u001b[90m━━━━━━━━━━━━━━━━━━━━━━━━━━━━━━━━━━━━━━━━\u001b[0m \u001b[32m43.6/43.6 KB\u001b[0m \u001b[31m5.0 MB/s\u001b[0m eta \u001b[36m0:00:00\u001b[0m\n",
            "\u001b[?25h  Preparing metadata (setup.py) ... \u001b[?25l\u001b[?25hdone\n",
            "\u001b[2K     \u001b[90m━━━━━━━━━━━━━━━━━━━━━━━━━━━━━━━━━━━━━━\u001b[0m \u001b[32m118.9/118.9 KB\u001b[0m \u001b[31m14.7 MB/s\u001b[0m eta \u001b[36m0:00:00\u001b[0m\n",
            "\u001b[2K     \u001b[90m━━━━━━━━━━━━━━━━━━━━━━━━━━━━━━━━━━━━━━\u001b[0m \u001b[32m352.1/352.1 KB\u001b[0m \u001b[31m37.7 MB/s\u001b[0m eta \u001b[36m0:00:00\u001b[0m\n",
            "\u001b[2K     \u001b[90m━━━━━━━━━━━━━━━━━━━━━━━━━━━━━━━━━━━━━━\u001b[0m \u001b[32m238.9/238.9 KB\u001b[0m \u001b[31m28.8 MB/s\u001b[0m eta \u001b[36m0:00:00\u001b[0m\n",
            "\u001b[2K     \u001b[90m━━━━━━━━━━━━━━━━━━━━━━━━━━━━━━━━━━━━━━━━\u001b[0m \u001b[32m1.3/1.3 MB\u001b[0m \u001b[31m65.5 MB/s\u001b[0m eta \u001b[36m0:00:00\u001b[0m\n",
            "\u001b[2K     \u001b[90m━━━━━━━━━━━━━━━━━━━━━━━━━━━━━━━━━━━━━━━━\u001b[0m \u001b[32m1.1/1.1 MB\u001b[0m \u001b[31m46.8 MB/s\u001b[0m eta \u001b[36m0:00:00\u001b[0m\n",
            "\u001b[?25h  Building wheel for seqeval (setup.py) ... \u001b[?25l\u001b[?25hdone\n"
          ]
        }
      ]
    },
    {
      "cell_type": "code",
      "source": [
        "import os\n",
        "import shutil\n",
        "\n",
        "import tensorflow as tf\n",
        "import tensorflow_hub as hub\n",
        "import tensorflow_text as text\n",
        "from official.nlp import optimization  # to create AdamW optimizer\n",
        "\n",
        "tf.get_logger().setLevel('ERROR')"
      ],
      "metadata": {
        "colab": {
          "base_uri": "https://localhost:8080/"
        },
        "id": "ldF0clqoJoSD",
        "outputId": "2b1af0b6-9cf5-438e-d0b4-f29a9a743e05"
      },
      "execution_count": null,
      "outputs": [
        {
          "output_type": "stream",
          "name": "stderr",
          "text": [
            "/usr/local/lib/python3.9/dist-packages/tensorflow_addons/utils/ensure_tf_install.py:53: UserWarning: Tensorflow Addons supports using Python ops for all Tensorflow versions above or equal to 2.9.0 and strictly below 2.12.0 (nightly versions are not supported). \n",
            " The versions of TensorFlow you are currently using is 2.8.4 and is not supported. \n",
            "Some things might work, some things might not.\n",
            "If you were to encounter a bug, do not file an issue.\n",
            "If you want to make sure you're using a tested and supported configuration, either change the TensorFlow version or the TensorFlow Addons's version. \n",
            "You can find the compatibility matrix in TensorFlow Addon's readme:\n",
            "https://github.com/tensorflow/addons\n",
            "  warnings.warn(\n"
          ]
        }
      ]
    },
    {
      "cell_type": "code",
      "execution_count": null,
      "metadata": {
        "cellView": "form",
        "id": "y8_ctG55-uTX",
        "outputId": "7ab75d08-ccc9-4f79-a1c0-9bfb86122941",
        "colab": {
          "base_uri": "https://localhost:8080/"
        }
      },
      "outputs": [
        {
          "output_type": "stream",
          "name": "stdout",
          "text": [
            "BERT model selected           : https://tfhub.dev/tensorflow/small_bert/bert_en_uncased_L-4_H-512_A-8/1\n",
            "Preprocess model auto-selected: https://tfhub.dev/tensorflow/bert_en_uncased_preprocess/3\n"
          ]
        }
      ],
      "source": [
        "#@title Choose a BERT model to fine-tune\n",
        "\n",
        "bert_model_name = 'small_bert/bert_en_uncased_L-4_H-512_A-8'  #@param [\"bert_en_uncased_L-12_H-768_A-12\", \"bert_en_cased_L-12_H-768_A-12\", \"bert_multi_cased_L-12_H-768_A-12\", \"small_bert/bert_en_uncased_L-2_H-128_A-2\", \"small_bert/bert_en_uncased_L-2_H-256_A-4\", \"small_bert/bert_en_uncased_L-2_H-512_A-8\", \"small_bert/bert_en_uncased_L-2_H-768_A-12\", \"small_bert/bert_en_uncased_L-4_H-128_A-2\", \"small_bert/bert_en_uncased_L-4_H-256_A-4\", \"small_bert/bert_en_uncased_L-4_H-512_A-8\", \"small_bert/bert_en_uncased_L-4_H-768_A-12\", \"small_bert/bert_en_uncased_L-6_H-128_A-2\", \"small_bert/bert_en_uncased_L-6_H-256_A-4\", \"small_bert/bert_en_uncased_L-6_H-512_A-8\", \"small_bert/bert_en_uncased_L-6_H-768_A-12\", \"small_bert/bert_en_uncased_L-8_H-128_A-2\", \"small_bert/bert_en_uncased_L-8_H-256_A-4\", \"small_bert/bert_en_uncased_L-8_H-512_A-8\", \"small_bert/bert_en_uncased_L-8_H-768_A-12\", \"small_bert/bert_en_uncased_L-10_H-128_A-2\", \"small_bert/bert_en_uncased_L-10_H-256_A-4\", \"small_bert/bert_en_uncased_L-10_H-512_A-8\", \"small_bert/bert_en_uncased_L-10_H-768_A-12\", \"small_bert/bert_en_uncased_L-12_H-128_A-2\", \"small_bert/bert_en_uncased_L-12_H-256_A-4\", \"small_bert/bert_en_uncased_L-12_H-512_A-8\", \"small_bert/bert_en_uncased_L-12_H-768_A-12\", \"albert_en_base\", \"electra_small\", \"electra_base\", \"experts_pubmed\", \"experts_wiki_books\", \"talking-heads_base\"]\n",
        "\n",
        "map_name_to_handle = {\n",
        "    'bert_en_uncased_L-12_H-768_A-12':\n",
        "        'https://tfhub.dev/tensorflow/bert_en_uncased_L-12_H-768_A-12/3',\n",
        "    'bert_en_cased_L-12_H-768_A-12':\n",
        "        'https://tfhub.dev/tensorflow/bert_en_cased_L-12_H-768_A-12/3',\n",
        "    'bert_multi_cased_L-12_H-768_A-12':\n",
        "        'https://tfhub.dev/tensorflow/bert_multi_cased_L-12_H-768_A-12/3',\n",
        "    'small_bert/bert_en_uncased_L-2_H-128_A-2':\n",
        "        'https://tfhub.dev/tensorflow/small_bert/bert_en_uncased_L-2_H-128_A-2/1',\n",
        "    'small_bert/bert_en_uncased_L-2_H-256_A-4':\n",
        "        'https://tfhub.dev/tensorflow/small_bert/bert_en_uncased_L-2_H-256_A-4/1',\n",
        "    'small_bert/bert_en_uncased_L-2_H-512_A-8':\n",
        "        'https://tfhub.dev/tensorflow/small_bert/bert_en_uncased_L-2_H-512_A-8/1',\n",
        "    'small_bert/bert_en_uncased_L-2_H-768_A-12':\n",
        "        'https://tfhub.dev/tensorflow/small_bert/bert_en_uncased_L-2_H-768_A-12/1',\n",
        "    'small_bert/bert_en_uncased_L-4_H-128_A-2':\n",
        "        'https://tfhub.dev/tensorflow/small_bert/bert_en_uncased_L-4_H-128_A-2/1',\n",
        "    'small_bert/bert_en_uncased_L-4_H-256_A-4':\n",
        "        'https://tfhub.dev/tensorflow/small_bert/bert_en_uncased_L-4_H-256_A-4/1',\n",
        "    'small_bert/bert_en_uncased_L-4_H-512_A-8':\n",
        "        'https://tfhub.dev/tensorflow/small_bert/bert_en_uncased_L-4_H-512_A-8/1',\n",
        "    'small_bert/bert_en_uncased_L-4_H-768_A-12':\n",
        "        'https://tfhub.dev/tensorflow/small_bert/bert_en_uncased_L-4_H-768_A-12/1',\n",
        "    'small_bert/bert_en_uncased_L-6_H-128_A-2':\n",
        "        'https://tfhub.dev/tensorflow/small_bert/bert_en_uncased_L-6_H-128_A-2/1',\n",
        "    'small_bert/bert_en_uncased_L-6_H-256_A-4':\n",
        "        'https://tfhub.dev/tensorflow/small_bert/bert_en_uncased_L-6_H-256_A-4/1',\n",
        "    'small_bert/bert_en_uncased_L-6_H-512_A-8':\n",
        "        'https://tfhub.dev/tensorflow/small_bert/bert_en_uncased_L-6_H-512_A-8/1',\n",
        "    'small_bert/bert_en_uncased_L-6_H-768_A-12':\n",
        "        'https://tfhub.dev/tensorflow/small_bert/bert_en_uncased_L-6_H-768_A-12/1',\n",
        "    'small_bert/bert_en_uncased_L-8_H-128_A-2':\n",
        "        'https://tfhub.dev/tensorflow/small_bert/bert_en_uncased_L-8_H-128_A-2/1',\n",
        "    'small_bert/bert_en_uncased_L-8_H-256_A-4':\n",
        "        'https://tfhub.dev/tensorflow/small_bert/bert_en_uncased_L-8_H-256_A-4/1',\n",
        "    'small_bert/bert_en_uncased_L-8_H-512_A-8':\n",
        "        'https://tfhub.dev/tensorflow/small_bert/bert_en_uncased_L-8_H-512_A-8/1',\n",
        "    'small_bert/bert_en_uncased_L-8_H-768_A-12':\n",
        "        'https://tfhub.dev/tensorflow/small_bert/bert_en_uncased_L-8_H-768_A-12/1',\n",
        "    'small_bert/bert_en_uncased_L-10_H-128_A-2':\n",
        "        'https://tfhub.dev/tensorflow/small_bert/bert_en_uncased_L-10_H-128_A-2/1',\n",
        "    'small_bert/bert_en_uncased_L-10_H-256_A-4':\n",
        "        'https://tfhub.dev/tensorflow/small_bert/bert_en_uncased_L-10_H-256_A-4/1',\n",
        "    'small_bert/bert_en_uncased_L-10_H-512_A-8':\n",
        "        'https://tfhub.dev/tensorflow/small_bert/bert_en_uncased_L-10_H-512_A-8/1',\n",
        "    'small_bert/bert_en_uncased_L-10_H-768_A-12':\n",
        "        'https://tfhub.dev/tensorflow/small_bert/bert_en_uncased_L-10_H-768_A-12/1',\n",
        "    'small_bert/bert_en_uncased_L-12_H-128_A-2':\n",
        "        'https://tfhub.dev/tensorflow/small_bert/bert_en_uncased_L-12_H-128_A-2/1',\n",
        "    'small_bert/bert_en_uncased_L-12_H-256_A-4':\n",
        "        'https://tfhub.dev/tensorflow/small_bert/bert_en_uncased_L-12_H-256_A-4/1',\n",
        "    'small_bert/bert_en_uncased_L-12_H-512_A-8':\n",
        "        'https://tfhub.dev/tensorflow/small_bert/bert_en_uncased_L-12_H-512_A-8/1',\n",
        "    'small_bert/bert_en_uncased_L-12_H-768_A-12':\n",
        "        'https://tfhub.dev/tensorflow/small_bert/bert_en_uncased_L-12_H-768_A-12/1',\n",
        "    'albert_en_base':\n",
        "        'https://tfhub.dev/tensorflow/albert_en_base/2',\n",
        "    'electra_small':\n",
        "        'https://tfhub.dev/google/electra_small/2',\n",
        "    'electra_base':\n",
        "        'https://tfhub.dev/google/electra_base/2',\n",
        "    'experts_pubmed':\n",
        "        'https://tfhub.dev/google/experts/bert/pubmed/2',\n",
        "    'experts_wiki_books':\n",
        "        'https://tfhub.dev/google/experts/bert/wiki_books/2',\n",
        "    'talking-heads_base':\n",
        "        'https://tfhub.dev/tensorflow/talkheads_ggelu_bert_en_base/1',\n",
        "}\n",
        "\n",
        "map_model_to_preprocess = {\n",
        "    'bert_en_uncased_L-12_H-768_A-12':\n",
        "        'https://tfhub.dev/tensorflow/bert_en_uncased_preprocess/3',\n",
        "    'bert_en_cased_L-12_H-768_A-12':\n",
        "        'https://tfhub.dev/tensorflow/bert_en_cased_preprocess/3',\n",
        "    'small_bert/bert_en_uncased_L-2_H-128_A-2':\n",
        "        'https://tfhub.dev/tensorflow/bert_en_uncased_preprocess/3',\n",
        "    'small_bert/bert_en_uncased_L-2_H-256_A-4':\n",
        "        'https://tfhub.dev/tensorflow/bert_en_uncased_preprocess/3',\n",
        "    'small_bert/bert_en_uncased_L-2_H-512_A-8':\n",
        "        'https://tfhub.dev/tensorflow/bert_en_uncased_preprocess/3',\n",
        "    'small_bert/bert_en_uncased_L-2_H-768_A-12':\n",
        "        'https://tfhub.dev/tensorflow/bert_en_uncased_preprocess/3',\n",
        "    'small_bert/bert_en_uncased_L-4_H-128_A-2':\n",
        "        'https://tfhub.dev/tensorflow/bert_en_uncased_preprocess/3',\n",
        "    'small_bert/bert_en_uncased_L-4_H-256_A-4':\n",
        "        'https://tfhub.dev/tensorflow/bert_en_uncased_preprocess/3',\n",
        "    'small_bert/bert_en_uncased_L-4_H-512_A-8':\n",
        "        'https://tfhub.dev/tensorflow/bert_en_uncased_preprocess/3',\n",
        "    'small_bert/bert_en_uncased_L-4_H-768_A-12':\n",
        "        'https://tfhub.dev/tensorflow/bert_en_uncased_preprocess/3',\n",
        "    'small_bert/bert_en_uncased_L-6_H-128_A-2':\n",
        "        'https://tfhub.dev/tensorflow/bert_en_uncased_preprocess/3',\n",
        "    'small_bert/bert_en_uncased_L-6_H-256_A-4':\n",
        "        'https://tfhub.dev/tensorflow/bert_en_uncased_preprocess/3',\n",
        "    'small_bert/bert_en_uncased_L-6_H-512_A-8':\n",
        "        'https://tfhub.dev/tensorflow/bert_en_uncased_preprocess/3',\n",
        "    'small_bert/bert_en_uncased_L-6_H-768_A-12':\n",
        "        'https://tfhub.dev/tensorflow/bert_en_uncased_preprocess/3',\n",
        "    'small_bert/bert_en_uncased_L-8_H-128_A-2':\n",
        "        'https://tfhub.dev/tensorflow/bert_en_uncased_preprocess/3',\n",
        "    'small_bert/bert_en_uncased_L-8_H-256_A-4':\n",
        "        'https://tfhub.dev/tensorflow/bert_en_uncased_preprocess/3',\n",
        "    'small_bert/bert_en_uncased_L-8_H-512_A-8':\n",
        "        'https://tfhub.dev/tensorflow/bert_en_uncased_preprocess/3',\n",
        "    'small_bert/bert_en_uncased_L-8_H-768_A-12':\n",
        "        'https://tfhub.dev/tensorflow/bert_en_uncased_preprocess/3',\n",
        "    'small_bert/bert_en_uncased_L-10_H-128_A-2':\n",
        "        'https://tfhub.dev/tensorflow/bert_en_uncased_preprocess/3',\n",
        "    'small_bert/bert_en_uncased_L-10_H-256_A-4':\n",
        "        'https://tfhub.dev/tensorflow/bert_en_uncased_preprocess/3',\n",
        "    'small_bert/bert_en_uncased_L-10_H-512_A-8':\n",
        "        'https://tfhub.dev/tensorflow/bert_en_uncased_preprocess/3',\n",
        "    'small_bert/bert_en_uncased_L-10_H-768_A-12':\n",
        "        'https://tfhub.dev/tensorflow/bert_en_uncased_preprocess/3',\n",
        "    'small_bert/bert_en_uncased_L-12_H-128_A-2':\n",
        "        'https://tfhub.dev/tensorflow/bert_en_uncased_preprocess/3',\n",
        "    'small_bert/bert_en_uncased_L-12_H-256_A-4':\n",
        "        'https://tfhub.dev/tensorflow/bert_en_uncased_preprocess/3',\n",
        "    'small_bert/bert_en_uncased_L-12_H-512_A-8':\n",
        "        'https://tfhub.dev/tensorflow/bert_en_uncased_preprocess/3',\n",
        "    'small_bert/bert_en_uncased_L-12_H-768_A-12':\n",
        "        'https://tfhub.dev/tensorflow/bert_en_uncased_preprocess/3',\n",
        "    'bert_multi_cased_L-12_H-768_A-12':\n",
        "        'https://tfhub.dev/tensorflow/bert_multi_cased_preprocess/3',\n",
        "    'albert_en_base':\n",
        "        'https://tfhub.dev/tensorflow/albert_en_preprocess/3',\n",
        "    'electra_small':\n",
        "        'https://tfhub.dev/tensorflow/bert_en_uncased_preprocess/3',\n",
        "    'electra_base':\n",
        "        'https://tfhub.dev/tensorflow/bert_en_uncased_preprocess/3',\n",
        "    'experts_pubmed':\n",
        "        'https://tfhub.dev/tensorflow/bert_en_uncased_preprocess/3',\n",
        "    'experts_wiki_books':\n",
        "        'https://tfhub.dev/tensorflow/bert_en_uncased_preprocess/3',\n",
        "    'talking-heads_base':\n",
        "        'https://tfhub.dev/tensorflow/bert_en_uncased_preprocess/3',\n",
        "}\n",
        "\n",
        "tfhub_handle_encoder = map_name_to_handle[bert_model_name]\n",
        "tfhub_handle_preprocess = map_model_to_preprocess[bert_model_name]\n",
        "\n",
        "print(f'BERT model selected           : {tfhub_handle_encoder}')\n",
        "print(f'Preprocess model auto-selected: {tfhub_handle_preprocess}')"
      ]
    },
    {
      "cell_type": "code",
      "source": [
        "bert_preprocess_model = hub.KerasLayer(tfhub_handle_preprocess)\n",
        "bert_model = hub.KerasLayer(tfhub_handle_encoder)"
      ],
      "metadata": {
        "id": "EwRkbJPxK_D1"
      },
      "execution_count": null,
      "outputs": []
    },
    {
      "cell_type": "code",
      "execution_count": null,
      "metadata": {
        "id": "aksj743St9ga"
      },
      "outputs": [],
      "source": [
        "def build_classifier_model():\n",
        "  text_input = tf.keras.layers.Input(shape=(), dtype=tf.string, name='text')\n",
        "  preprocessing_layer = hub.KerasLayer(tfhub_handle_preprocess, name='preprocessing')\n",
        "  encoder_inputs = preprocessing_layer(text_input)\n",
        "  encoder = hub.KerasLayer(tfhub_handle_encoder, trainable=True, name='BERT_encoder')\n",
        "  outputs = encoder(encoder_inputs)\n",
        "  net = outputs['pooled_output']\n",
        "  net = tf.keras.layers.Dropout(0.1)(net)\n",
        "  net = tf.keras.layers.Dense(1, activation=None, name='classifier')(net)\n",
        "  return tf.keras.Model(text_input, net)"
      ]
    },
    {
      "cell_type": "code",
      "execution_count": null,
      "metadata": {
        "id": "0EmzyHZXKIpm",
        "outputId": "6135f943-e06f-4b6c-96d4-fb66855df5df",
        "colab": {
          "base_uri": "https://localhost:8080/",
          "height": 466
        }
      },
      "outputs": [
        {
          "output_type": "execute_result",
          "data": {
            "image/png": "[encoded data removed]",
            "text/plain": [
              "<IPython.core.display.Image object>"
            ]
          },
          "metadata": {},
          "execution_count": 19
        }
      ],
      "source": [
        "classifier_model = build_classifier_model()\n",
        "tf.keras.utils.plot_model(classifier_model)"
      ]
    },
    {
      "cell_type": "code",
      "execution_count": null,
      "metadata": {
        "id": "OWPOZE-L3AgE"
      },
      "outputs": [],
      "source": [
        "loss = tf.keras.losses.BinaryCrossentropy(from_logits=True)\n",
        "metrics = tf.metrics.BinaryAccuracy()"
      ]
    },
    {
      "cell_type": "code",
      "execution_count": null,
      "metadata": {
        "id": "P9eP2y9dbw32"
      },
      "outputs": [],
      "source": [
        "epochs = 4\n",
        "steps_per_epoch = 100\n",
        "num_train_steps = steps_per_epoch * epochs\n",
        "num_warmup_steps = int(0.1*num_train_steps)\n",
        "\n",
        "init_lr = 3e-5\n",
        "optimizer = optimization.create_optimizer(init_lr=init_lr,\n",
        "                                          num_train_steps=num_train_steps,\n",
        "                                          num_warmup_steps=num_warmup_steps,\n",
        "                                          optimizer_type='adamw')\n"
      ]
    },
    {
      "cell_type": "code",
      "execution_count": null,
      "metadata": {
        "id": "-7GPDhR98jsD"
      },
      "outputs": [],
      "source": [
        "classifier_model.compile(optimizer=optimizer,\n",
        "                         loss=loss,\n",
        "                         metrics=metrics)"
      ]
    },
    {
      "cell_type": "code",
      "execution_count": null,
      "metadata": {
        "id": "HtfDFAnN_Neu",
        "outputId": "fca463c5-d745-41b4-873f-730fb665bbc1",
        "colab": {
          "base_uri": "https://localhost:8080/"
        }
      },
      "outputs": [
        {
          "output_type": "stream",
          "name": "stdout",
          "text": [
            "Training model with https://tfhub.dev/tensorflow/small_bert/bert_en_uncased_L-4_H-512_A-8/1\n",
            "Epoch 1/4\n",
            "898/898 [==============================] - 250s 268ms/step - loss: 0.0652 - binary_accuracy: 0.9747 - val_loss: 0.0385 - val_binary_accuracy: 0.9868\n",
            "Epoch 2/4\n",
            "898/898 [==============================] - 241s 268ms/step - loss: 0.0348 - binary_accuracy: 0.9879 - val_loss: 0.0385 - val_binary_accuracy: 0.9868\n",
            "Epoch 3/4\n",
            "898/898 [==============================] - 240s 268ms/step - loss: 0.0347 - binary_accuracy: 0.9876 - val_loss: 0.0385 - val_binary_accuracy: 0.9868\n",
            "Epoch 4/4\n",
            "898/898 [==============================] - 241s 268ms/step - loss: 0.0338 - binary_accuracy: 0.9885 - val_loss: 0.0385 - val_binary_accuracy: 0.9868\n"
          ]
        }
      ],
      "source": [
        "print(f'Training model with {tfhub_handle_encoder}')\n",
        "history = classifier_model.fit(X_train, \n",
        "                               y_train,\n",
        "                               validation_split=0.1,\n",
        "                               epochs=epochs)"
      ]
    },
    {
      "cell_type": "markdown",
      "source": [
        "### Evaluating the Model"
      ],
      "metadata": {
        "id": "yuTScAwnnD81"
      }
    },
    {
      "cell_type": "code",
      "execution_count": null,
      "metadata": {
        "id": "slqB-urBV9sP",
        "colab": {
          "base_uri": "https://localhost:8080/"
        },
        "outputId": "e103df7f-107c-4901-b179-9b40280a87aa"
      },
      "outputs": [
        {
          "output_type": "stream",
          "name": "stdout",
          "text": [
            "250/250 [==============================] - 34s 134ms/step - loss: 0.0440 - binary_accuracy: 0.9857\n",
            "Loss: 0.04396290332078934\n",
            "Accuracy: 0.9857053160667419\n"
          ]
        }
      ],
      "source": [
        "loss, accuracy = classifier_model.evaluate(X_test, y_test)\n",
        "\n",
        "print(f'Loss: {loss}')\n",
        "print(f'Accuracy: {accuracy}')"
      ]
    },
    {
      "cell_type": "code",
      "source": [
        "from sklearn.metrics import f1_score, roc_curve\n",
        "\n",
        "y_pred = (classifier_model.predict(X_test)>0).astype(int)[:,0]\n",
        "print(\"F1 Score :\", f1_score(y_test, y_pred))\n"
      ],
      "metadata": {
        "colab": {
          "base_uri": "https://localhost:8080/"
        },
        "id": "jpWq0hotQhYp",
        "outputId": "51f671ab-6dd5-4471-eb96-63c0d4f3bcb4"
      },
      "execution_count": null,
      "outputs": [
        {
          "output_type": "stream",
          "name": "stdout",
          "text": [
            "F1 Score : 0.9869256630556592\n"
          ]
        }
      ]
    },
    {
      "cell_type": "markdown",
      "source": [
        "### AUC curve plot"
      ],
      "metadata": {
        "id": "A0HAYvcmnH6s"
      }
    },
    {
      "cell_type": "code",
      "source": [
        "#create AUC curve\n",
        "\n",
        "y_pred_proba = classifier_model.predict(X_test)[:,0]\n",
        "fpr, tpr, _ = roc_curve(y_test,  y_pred_proba)\n",
        "\n",
        "plt.plot(fpr,tpr)\n",
        "plt.title('AUC Curve')\n",
        "plt.ylabel('True Positive Rate')\n",
        "plt.xlabel('False Positive Rate')\n",
        "plt.show()"
      ],
      "metadata": {
        "colab": {
          "base_uri": "https://localhost:8080/",
          "height": 295
        },
        "id": "tNicQV5IbneD",
        "outputId": "301660db-6686-4ca3-ed63-f516efdc5ff6"
      },
      "execution_count": null,
      "outputs": [
        {
          "output_type": "display_data",
          "data": {
            "text/plain": [
              "<Figure size 432x288 with 1 Axes>"
            ],
            "image/png": "[encoded data removed]"
          },
          "metadata": {
            "needs_background": "light"
          }
        }
      ]
    },
    {
      "cell_type": "markdown",
      "source": [
        "## Misclassified Articles"
      ],
      "metadata": {
        "id": "tKYCqNMvTR_d"
      }
    },
    {
      "cell_type": "code",
      "source": [
        "misclassified = []\n",
        "for i in range(len(y_pred)):\n",
        "  if y_pred[i]!=y_test[i]:\n",
        "    misclassified.append(i)\n",
        "\n",
        "for ind in misclassified[:10]:\n",
        "  print(X_test[ind])\n",
        "  print('Predicted Label :', y_pred[ind])\n",
        "  print('True Label :', y_test[ind])\n",
        "  print()"
      ],
      "metadata": {
        "colab": {
          "base_uri": "https://localhost:8080/"
        },
        "id": "jM0fIxYG1mIY",
        "outputId": "7fe09cd4-8dc4-4bfa-9e69-0709a02787f9"
      },
      "execution_count": null,
      "outputs": [
        {
          "output_type": "stream",
          "name": "stdout",
          "text": [
            "State Department spokeswoman Heather Nauert did a great job of defending the U.S. move to pull out of a UN organization that has been connected to terrorist organizations hostile to Israel. Israel immediately praised the move by the Trump administration and announced they will follow:The U.S. will withdraw from United Nations Educational, Scientific and Cultural Organization (UNESCO), citing financial reasons and  anti-Israel bias. This decision was not taken lightly, and reflects U.S. concerns with mounting arrears at UNESCO, the need for fundamental reform in the organization, and continuing anti-Israel bias at UNESCO,  State Department spokeswoman Heather Nauert said in a statement Thursday.The U.S. withdrawal will take effect on Dec. 31. The U.S. will remain in the cultural organization as a non-member observer.UNESCO director-general Irina Bokova said in a statement that she wishes  to express profound regret  at the U.S.  decision.Nauert s statement did not include any examples of  anti-Israel  bias, and Bokova appeared to push back at this suggestion.Read more: DC\n",
            "Predicted Label : 0\n",
            "True Label : 1\n",
            "\n",
            "The Russian President has immediately sent his Admiral Grigorovich frigate   armed with cruise missiles and a self-defence system   from the Black Sea to dock in Syria later. It will pass through the east Mediterranean waters where the USS Ross and USS Porter fired the 59 Tomahawk missiles that pounded Assad s al-Shayrat military airfield near Homs in the early hours of Friday. Bret Baier tweeted out the news: Putin today called it an  illegal act of aggression  and also ripped up an agreement to avoid mid-air clashes between Russian and US fighter jets over Syria. In the continuing fight back Russian or Syrian planes also bombed the town of Khan Sheikhoun, the scene of Tuesday s horrific chemical gas attack where 80 died, witnesses in the rebel-held area claimed. The US was also branded  a partner of ISIS  by al-Assad s spokesman, calling the missile strikes  reckless and irresponsible  and accused Trump of  naively falling  for a  false propaganda campaign  about the Idlib Sarin massacre. Today world leaders praised the US strikes and urged Putin to hold urgent talks with Trump to prevent the Syria crisis escalating into a wider world conflict. Nikki Haley says U.S.  took a very measured step last night. We are prepared to do more, but we hope that will not be necessary. .@Nikkihaley says U.S.  took a very measured step last night. We are prepared to do more, but we hope that will not be necessary.  #Syria pic.twitter.com/asNvxTZMUz  CSPAN (@cspan) April 7, 2017 French Foreign Minister Jean-Marc Ayrault, speaking alongside German Foreign Minister Sigmar Gabriel, said:  We do not want an escalation. We have to stop the hypocrisy. If Russia is acting in good faith it should stop and negotiate . Read more: Daily Mail\n",
            "Predicted Label : 0\n",
            "True Label : 1\n",
            "\n",
            "U.S. Rep. Jim Clyburn could find himself in hot water.A writer for The New York Times Magazine and National Geographic tweeted that Clyburn invoked the name of Susan Smith, South Carolina s infamous child murderer, in his defense of Conyers. James Clyburn compared Conyers  accusers to the child murderer Susan Smith, who initially claimed a black man had abducted her kids. Clyburn said, these are all white women who ve made these charges against Conyers,  Robert Draper tweeted.When asked if that comment was true, Draper said he verified it through two sources, adding  Clyburn has used the Susan Smith parallel more than once, to members & staffers. Clyburn responded on Twitter, saying  This is inaccurate in many regards. The Congressional Black Caucus tweeted about the alleged Susan Smith comment, saying Clyburn  used the Smith example to illustrate the dangers of convicting people before getting all the facts. Umm yeah, sure he did.Meanwhile, Clyburn just kept digging a deeper hole. Following his baseless and disgusting and racist claims to Congress, Clyburn was met in the basement of Congress, where he was asked about fellow Black Caucus member and accused serial sexual assaulter, Rep. John Conyers (D-MI). His response was stunning.When asked about sexual harassment allegations against colleague Rep. John Conyers (D-Mich.), Clyburn seemed to suggest elected officials should be held to a different standard than other public figures.In a video posted on Twitter, the 77-year-old Clyburn is walking to an elevator with Congressional Black Caucus chairman Cedric Richmond (D-La.), when asked  Other men in other industries have faced similar accusations   and gotten out of the way, resign, stepped down, far faster than he has, right   Harvey Weinstein, Charlie Rose, Matt Lauer? Clyburn s response,  Who elected them? CBC Chair Richmond asks for ex. of ppl leaving jobs faster than Conyers when face sexual harassment claims; Clyburn asks \"who elected them?\" pic.twitter.com/FGDNbvBUcg  Alex Moe (@AlexNBCNews) November 29, 2017That was followed by another question,  So it s different because he s elected,  but the elevator doors closed before Clyburn might have responded.A HIGHER STANDARDBut after 5 p.m., Clyburn posted his official statement regarding a House Resolution that read very differently than the flippant response to reporters in the halls of the Capitol.Congress must streamline the process, protect victims that wish to be protected, and ensure all allegations of wrongdoing are investigated with professionalism, urgency and due process. Read my full statement here, https://t.co/P3eEnkTIS5  James E. Clyburn (@Clyburn) November 29, 2017 As elected officials, we ought to be held to a higher standard,  Clyburn said in his statement.  Congress must review and improve the current administrative procedure for victims to come forward. All harassment and discrimination allegations must be taken seriously.    The StateClyburn took to Twitter again tonight to cover his ass:This is inaccurate in many regards. That discussion had nothing to with Conyers. https://t.co/EWeokwGn50  James E. Clyburn (@Clyburn) November 29, 2017New York Times reporter Rober Draper responded to Clyburn, refuting his claim that it had  nothing to do with Conyers .That discussion was specifically & exclusively about Conyers, according to 2 attendees. Who else could you have been referring to when bringing up Susan Smith? https://t.co/MtbIdDbxT7  Robert Draper (@DraperRobert) November 29, 2017Liberal rag Buzzfeed, immediately came to Clyburn s defense:Clyburn's people dispute this. \"That is not accurate. That discussion had nothing to do with Conyers.\" https://t.co/gqRSuZYi4Z  Paul McLeod (@pdmcleod) November 29, 2017Draper refused to back down and stated that his  sourcing is solid on this . Draper then went on to say,  Further, I m also told it isn t the first time Clyburn has used the Susan Smith parallel with reference to Conyers. My sourcing is solid on this. Further, I'm also told it isn't the first time Clyburn has used the Susan Smith parallel with reference to Conyers. https://t.co/vToUxKbgVW  Robert Draper (@DraperRobert) November 29, 2017The Black Caucus then came after the New York Timer reporter Robert Draper:.@RepRichmond: \"This is not accurate. @Clyburn used the Smith example to illustrate the dangers of convicting people before getting all the facts. Although Smith killed her kids, she blamed an innocent person & a lot of people believed that innocent person was guilty.\" 1/2 https://t.co/Rm5NkXk7BY  Black Caucus (@OfficialCBC) November 30, 2017Again, Draper stood his ground and refused to be bullied by the Black Caucus on this issue:Correct. But with specific contextual reference to Conyers. Are you suggesting this was some detached academic discussion in which Conyers wasn t brought up? Not credible & also not what the two attendees say. https://t.co/pOtph6T7qI  Robert Draper (@DraperRobert) November 30, 2017 \n",
            "Predicted Label : 0\n",
            "True Label : 1\n",
            "\n",
            "The Obama administration is not pursuing the use of an executive order to shutter the Guantanamo Bay military prison after officials concluded that it would not be a viable strategy, sources familiar with the deliberations said. The conclusion, reached by administration officials, narrows the already slim chances that President Barack Obama can fulfill his pledge to close the  notorious offshore prison before leaving office in January. The White House has said repeatedly that Obama has not ruled out any options on the Guantanamo center, which has been used to house terrorism suspects since it was set up in 2001 following the Sept. 11 attacks on New York and Washington. Obama is eager to fulfill his 2008 campaign pledge to close the prison and could still choose to use his commander-in-chief powers, but the option is not being actively pursued, the sources said. Without executive action, the chances of closing the prison would hinge on convincing a resistant Congress to overturn a long-standing ban on bringing possibly dozens of remaining prisoners to maximum-security prisons in the United States.  White House lawyers and other officials studied the option of overriding the ban but did not develop a strong legal position or an effective political sales pitch in an election year, a source familiar with the discussions said.  “It was just deemed too difficult to get through all of the hurdles that they would need to get through, and the level of support they were likely to receive on it was thought to be too low to generate such controversy, particularly at a sensitive (time) in an election cycle,” the source said. Republicans in Congress are opposed to bringing Guantanamo detainees to U.S. prisons and have expressed opposition to transfers to other countries over concern that released prisoners will return to militant activities. They have vowed to challenge any potential Obama executive action in court. At its peak, the prison at the U.S. naval base in Cuba housed nearly 800 prisoners, becoming a symbol of the excesses of the “war on terror” and synonymous with criticism of detention without trial and accusations of torture. Obama has called it a recruitment tool for terrorists. The number of Guantanamo detainees has fallen to 80 now, the lowest since it was opened.  The administration is focusing on getting the number of detainees at the prison down to such a low number, perhaps 20, that the cost of keeping it open could prove unpalatable to Congress. Republican lawmakers remain unswayed. The Guantanamo prison and associated military commissions cost $445 million in fiscal year 2015. That works out to more than $5.5 million a year for each of the 80 remaining prisoners. Thirty of the remaining detainees at Guantanamo have been approved for transfer to foreign countries and the State Department says it will move all of them out this summer. Those who would be left include 10 being prosecuted in military commissions, and other detainees deemed too dangerous to release or transfer. “The administration’s goal is to work with Congress to find a solution to close Guantanamo,” said Myles Caggins, a spokesman for the White House National Security Council. He said the government had made “substantial progress”  moving prisoners to foreign countries and was working to identify more countries for additional transfers. Reviews to determine whether certain prisoners need to remain detained to prevent a threat to U.S. security had been accelerated and would be completed in the coming months, he said. Obama, who issued an order to shut the prison within a year on his first day in office, released his latest plan to close it to Congress in February, but it has not gained traction. The White House has not publicly ruled out the executive order option in part to keep pressure on the Pentagon to move prisoners who have been cleared for release to other countries, one of the sources said. “If Congress ... would finally say no to the president’s plan and the executive order option wasn’t on the table, there was a concern that the wheels could grind to a halt,” said the source familiar with discussions at the White House. Gregory Craig, who served as Obama’s first White House counsel, said that without an executive order, Obama would likely need the cooperation of Congress to shut down the prison. “I think the odds are probably challenging,” Craig said.\n",
            "Predicted Label : 1\n",
            "True Label : 0\n",
            "\n",
            "President Trump s administration has told the State Department to cut more than 50 percent of U.S. funding to United Nations programs, Foreign Policy reported.The push for the drastic reductions comes as the White House is scheduled to release its 2018 topline budget proposal Thursday, which is expected to include a 37 percent cut to the State Department and U.S. Agency for International Development budgets.It s not clear if Trump s budget plan, from the Office of Management and Budget, would reflect the full extent of Trump s proposed cuts to the U.N.Richard Gowan, a U.N. expert at the European Council on Foreign Relations, said the alterations would spark  chaos  if true. [It would] leave a gaping hole that other big donors would struggle to fill,  he told FP, pointing to how the U.S. provided $1.5 billion of the U.N. refugee agency s $4 billion budget last year.Via: The Hill\n",
            "Predicted Label : 0\n",
            "True Label : 1\n",
            "\n",
            "Judicial Watch today announced that the National Security Council (NSC) on May 23, 2017, informed it by letter that the materials regarding the unmasking by Obama National Security Advisor Susan Rice of  the identities of any U.S. citizens associated with the Trump presidential campaign or transition team  have been removed to the Obama Library.The NSC will not fulfill an April 4 Judicial Watch request for records regarding information relating to people  who were identified pursuant to intelligence collection activities. The agency also informed Judicial Watch that it would not turn over communications with any Intelligence Community member or agency concerning the alleged Russian involvement in the 2016 presidential election; the hacking of DNC computers; or the suspected communications between Russia and Trump campaign/transition officials. Specifically, the NSC told JudicialWatch: \n",
            "Predicted Label : 0\n",
            "True Label : 1\n",
            "\n",
            "Republican presidential nominee Donald Trump, facing eroding support from his party over lewd remarks about women, goes into a second presidential debate with Democrat Hillary Clinton on Sunday needing to demonstrate he remains a credible candidate.  The pressure on the 70-year-old Trump at the debate will be intense. Not only must he parry attacks from Clinton and explain why he is a better alternative. He must also show an apologetic side to stop more Republican supporters from giving up on him.  Trump already had an uphill battle to win the White House in the Nov. 8 election before disclosure of a 2005 video in which he could be heard talking crudely about women.  A Reuters-Ipsos poll had Clinton leading by five points on Friday, before the video surfaced. Now, the question is whether Trump’s quest for the presidency is all but over.  The fresh controversy adds an air of unpredictability over the 9 p.m. EDT debate at Washington University in St. Louis, the second of three scheduled presidential debates as the long-running U.S. election contest enters its final weeks.  It will be a town hall-style debate with undecided voters posing half the questions and the debate’s two moderators posing the others.  His vice presidential running mate, Mike Pence, said on Sunday that Trump needs to show contrition.  “We pray for his family and look forward to the opportunity to show what is in his heart when he goes before the nation tomorrow night,” Pence said in a statement.  The crisis has put the Republican National Committee in a tight spot with less than a month to go until Election Day.  Trump would have to resign the nomination to allow Republican leaders to choose a successor, but the New York businessman is showing no signs of stepping down despite increasing calls from elected leaders for him to let Pence become the nominee.  “The media and establishment want me out of the race so badly - I WILL NEVER DROP OUT OF THE RACE, WILL NEVER LET MY SUPPORTERS DOWN!” Trump tweeted on Sunday from Trump Tower in New York.  At the first debate, on Sept. 26, Trump was repeatedly put on the defensive by Clinton. He never let her accusations go unanswered, and as a result he missed opportunities to use his speaking time to draw attention to Clinton’s perceived weaknesses.  Republicans said Trump needed to perform more like Pence, who was deemed the winner in his vice presidential debate against Democratic rival Tim Kaine last week.  Republican strategist Ron Bonjean said there is plenty Trump could learn from Pence, who stayed on offense at the vice-presidential debate, did not bother to respond to Kaine’s accusations, and looked calm and unflappable.  “It was a clear lesson in how you avoid falling into your opponent’s traps,” Bonjean said. “Don’t talk about what the other side wants you to talk about, focus on what you want to talk about.”  Clinton has been hunkered down for days getting ready for what could be, for her, a knockout blow against Trump.  Before the video surfaced, Clinton campaign officials said they were expecting the Republican nominee to come to the debate more subdued than the first round.  But they were also prepared in case Trump follows through with a threat to focus on Clinton’s sometimes troubled marriage to former President Bill Clinton.  Clinton, who has already capitalized on Trump’s treatment of women, herself foreshadowed how she might respond to an attack from Trump on her marriage during a speech to a fundraiser in Washington on Wednesday.  “I feel it’s my responsibility not to defend myself against his attacks because, really, been there, done that,” she said. “I think it’s my responsibility to defend everybody else against his attacks,” she said, drawing cheers from the crowd.  Clinton has her own issues to face. Wikileaks on Friday published an email from Clinton advisers appearing to contain excerpts of paid speeches to corporations, in which Clinton voices support for open trade and borders and says how sometimes it is important to have a public and private position.\n",
            "Predicted Label : 1\n",
            "True Label : 0\n",
            "\n",
            "President Trump gave a powerful speech to Arab leaders at the opening of the new Global Centre for Combatting Extremist Ideology in Riyadh, Saudi Arabia on May 21, 2017. In his historic speech, President Trump warned Islamic extremists:  If you choose terror, your life will be brief and your life will be empty.  Trump went on to tell the Arab leaders and the entire world, We are not here to lecture and tell you how to live. We are here to work together to meet one goal and meet history s great test to conquer extremism. Young Muslim boys and girls should be able to grow up free from fear, safe from violence and innocent of hatred. Young Muslims should be able to build prosperity for themselves. This will be the beginning of the end for those who fight terror. This special gathering will one day be remembered as the start of peace in the Middle East and potentially all over the world. Watch the clip of President Trump telling Arab leaders in Riyadh and around the world to  drive out terrorism  from their nations and from their places of worship:It appears that the Imams in London were listening after East London Mosque and London Muslim Centre Chairman Muhammad Habibur-Rahman boldly announced to Muslims everywhere that if they commit acts of terror against innocent people, they will not receive funeral rights in London mosques.British police on Tuesday named the final member of the terror trio that murdered seven people on Saturday in a knife and van attack before police shot the jihadis dead   and the news comes as more than 130 Muslim religious leaders were refusing to say funeral prayers for any members of the ISIS cell.The decision by the Muslim leaders was seen as an  unprecedented  move because the funeral ritual is typically performed on a deceased Muslim no matter the person s past actions. The group of religious leaders have urged others to join them in declining to pray for the dead killers. We, as Muslim imams and religious leaders, condemn the recent terror attacks in Manchester and London in the strongest terms possible,  the Muslim leaders said in a statement.  Coming from a range of backgrounds, and from across the U.K.; feeling the pain the rest of the nation feels, we have come together to express our shock and utter disgust at these cold-blooded murders. We are deeply hurt that a spate of terror attacks have been committed in our country once more by murderers who seek to gain religious legitimacy for their actions. We seek to clarify that their reprehensible actions have neither legitimacy nor our sympathy. East London Mosque and London Muslim Centre Chairman Muhammad Habibur-Rahman said the decision was made because  those who perpetrate terrorism: you are against the very core teaching of Islam and of our Prophet Muhammad. Your misguidance will lead you to destruction, and God willing you will utterly fail in your evil aims,  he said in a statement.The decision underscores a warning President Trump issued to the Islamic world last month. Speaking in Riyadh before the leaders of 50 Muslim majority countries, Trump told warned terrorists that taking innocent lives would not lead to eternal paradise. If you choose the path of terror, your life will be empty, your life will be brief, and your soul will be fully condemned,  Trump said.U.S. Secretary of State Rex Tillerson also applauded the move. He said he was encouraged by the imams and said that the decision means  they re condemning their souls  since the funeral prayer asks for forgiveness of the dead. And that is what has to be done,  he said.Youssef Zaghba, a Moroccan-born Italian man, was identified Tuesday morning as the final member of the trio that descended upon the London Bridge on Saturday.Mak Chishty, the Metropolitan police commander of engagement, said, according to The Guardian, that it is time for Muslims to  counter the scourge of terrorism, extremism and hatred that we have in our communities at present. Chishty, the highest-ranking officer in the department of Muslim faith, said,  It is the Islamic duty of every Muslim to be loyal to the country in which they live. We are now asking questions to understand how extremism and hatred has taken hold within some elements of our own communities.   FOX News \n",
            "Predicted Label : 0\n",
            "True Label : 1\n",
            "\n",
            "21st Century Wire says The Russian President, Vladimir Putin, had his first phone meeting with President Donald Trump after his inauguration in January and now it looks like the ground work is being laid for the first face to face meeting with Trump in person, perhaps in Slovenia.There certainly is a lot to discuss between trade, economic issues, security and of course terrorism. Putin noted, By joining our efforts, we could make a considerable contribution to settling these issues, including fighting international terrorism RT explores this report further in the below article. RT Ljubljana   and Slovenia in general   is of course a great place to hold such dialogue,  Putin said on Friday.Putin, who is currently welcoming Slovenian President Borut Pahor in Russia on an official visit, thanked his guest for his eagerness to host such a meeting, but said that the choice of venue did not depend on Moscow alone. If this meeting takes place someday, we have nothing against Ljubljana [as the venue],  Putin said at a press conference. He reminded that he also met with former US President Barack Obama in the Slovenian capital.READ MORE: Lavrov: Undoing Obama-inflicted damage to Russia-US ties will take great effortThe Russian and the new American presidents had their first phone conversation after Trump s inauguration in January. Yet, after Trump was sworn into presidency, Kremlin said it would take months rather than weeks to organize a meeting between the two leaders. It won t happen in a matter of weeks,  Kremlin spokesman Dmitry Peskov said in an interview with the BBC, adding the meeting could  hopefully  happen  in the months to come. Relations between Moscow and Washington have deteriorated badly over the past five years, the Russian president said on Friday. They  require recovery in the interests of both the Russian and American people,  Putin added, saying that Moscow has always  welcomed  mending ties with the US. We have always welcomed and count on restoring our relations to the full scale and in all directions, but it depends not only on us, but also on the American side,  Putin said.READ MORE:  Trump confronting rabid Russophobia found in DNA of Republican Party The new US president needs to finish forming his team, which will decide on  who will participate in the dialogues,  the Russian president told the media. Trade, economic, and security issues are to be among the topics discussed, including the  regions in the world suffering from numerous conflicts,  he said.'I don t know #Putin, but if we can get along with Russia that s a great thing'   #Trump https://t.co/6WmvIJcSQk pic.twitter.com/2OAohTJzxR  RT (@RT_com) January 27, 2017 By joining our efforts, we could make a considerable contribution to settling these issues Continue this report at RTREAD MORE TRUMP NEWS AT: 21st Century Wire Trump FilesSUPPORT OUR WORK BY SUBSCRIBING & BECOMING A MEMBER @21WIRE.TV\n",
            "Predicted Label : 0\n",
            "True Label : 1\n",
            "\n",
            "Trapped under tons of rubble and in complete darkness, Diana Pacheco s hopes were fading fast for making it out alive from a collapsed office building after a huge earthquake in Mexico City, despite rescuers  frantic attempts to reach her. Then the trapped woman had a great stroke of luck: a series of short messages she had written and sent to her husband some 16 hours earlier lit up his phone screen.  My love   The ceiling fell   We re trapped   I love you   I love you a lot   We re on the fourth floor   Near the emergency stairway   There s four of us,  read the WhatsApp messages, which finally reached her husband Juan Jesus Garcia on Wednesday at 5:34 a.m.  Garcia, 33, an Uber driver, had been waiting, often in tears, beside the collapsed building all night and immediately ran over to rescue workers.  It was like a miracle because I was the only one who got the message and since I was there with the rescue workers I talked to them and they could locate her,  said Garcia. The messages on Garcia s phone, seen by Reuters shortly after they were received on Wednesday, could have been delayed due to erratic cell phone coverage in parts of Mexico City after the quake, or the fact that Pacheco s phone signal was blocked by the tons of concrete that kept her trapped in the collapsed building. When asked whether WhatsApp messages can be delivered hours after they were sent in an area without good cellphone coverage, a spokeswoman for the company confirmed it is possible.         Pacheco, a recruiter for a human resources and accounting firm, said she sent the messages shortly after the 7.1 magnitude earthquake struck at 1:14 p.m. on Tuesday.  Those messages helped them know more or less where we were located,  Pacheco said on Friday from her hospital bed, her voice weak. Using the information to pinpoint their location, rescuers freed Pacheco, 30, and the three other survivors shortly after 6 a.m. on Wednesday.  Rescue operations were still underway on Friday at the building, where Pacheco says there were some 60 people on her floor alone at the time of the quake.  I think there are people (alive) there because we had oxygen, air was coming in,  she said. Despite having bruises all over her body and wearing a neck brace, Pacheco was generally in good health. She said she tried to send WhatsApp and text messages to other people from under the building, as well as make phone calls and post on Facebook, but only the messages to her husband got through.     She said when the building fell, the force of two floors above collapsing violently knocked her down, but a wall of concrete stopped just short of crushing her and three of her coworkers. They found themselves huddled together in a cramped space. They screamed out every time they heard voices from outside the building.  We heard them (rescue workers) when they asked us to yell or make noise, but regardless of how much we yelled they couldn t hear us,  Pacheco said.     The quake, Mexico s deadliest in a generation, has already claimed close to 300 lives. [nL5N1M330H] (This version of the story has been refiled to change the date in dateline.)\n",
            "Predicted Label : 1\n",
            "True Label : 0\n",
            "\n"
          ]
        }
      ]
    },
    {
      "cell_type": "markdown",
      "source": [
        "## More Tests"
      ],
      "metadata": {
        "id": "Zsn0GT-XcP3I"
      }
    },
    {
      "cell_type": "code",
      "source": [
        "Extra_Tests = []\n",
        "for i in range(len(X_test)):\n",
        "  if y_test[i] == 1: # Fake News\n",
        "    Extra_Tests.append('WASHINGTON (Reuters) - ' + X_test[i])"
      ],
      "metadata": {
        "id": "qb9cS-dAcSus"
      },
      "execution_count": null,
      "outputs": []
    },
    {
      "cell_type": "code",
      "source": [
        "extra_pred = (classifier_model.predict(Extra_Tests)>0).astype(int)[:,0]\n",
        "sum(extra_pred), len(X_test), 100-100*sum(extra_pred)/len(X_test)"
      ],
      "metadata": {
        "colab": {
          "base_uri": "https://localhost:8080/"
        },
        "id": "U9ELj02Rb9fe",
        "outputId": "73784683-2e58-483f-9eef-577a844ba142"
      },
      "execution_count": null,
      "outputs": [
        {
          "output_type": "execute_result",
          "data": {
            "text/plain": [
              "(3957, 7975, 50.38244514106583)"
            ]
          },
          "metadata": {},
          "execution_count": 30
        }
      ]
    },
    {
      "cell_type": "markdown",
      "source": [
        "### Save Model"
      ],
      "metadata": {
        "id": "dE70EkuSwiyY"
      }
    },
    {
      "cell_type": "code",
      "source": [
        "classifier_model.save('bert_model')"
      ],
      "metadata": {
        "id": "kNLHJSFn4iuJ"
      },
      "execution_count": null,
      "outputs": []
    },
    {
      "cell_type": "code",
      "source": [
        "classifier_model_loaded = tf.keras.models.load_model(\n",
        "  \"bert_model\",\n",
        "  custom_objects={\n",
        "    \"AdamWeightDecay\": optimizer\n",
        "  }\n",
        ")"
      ],
      "metadata": {
        "id": "MML-1sIo6CLZ"
      },
      "execution_count": null,
      "outputs": []
    },
    {
      "cell_type": "code",
      "source": [
        "extra_pred = (classifier_model_loaded.predict(Extra_Tests)>0).astype(int)[:,0]\n",
        "sum(extra_pred), len(X_test), 100-100*sum(extra_pred)/len(X_test)"
      ],
      "metadata": {
        "colab": {
          "base_uri": "https://localhost:8080/"
        },
        "id": "ZuWxTKAC6udX",
        "outputId": "b6a13534-73e2-46d9-f822-b387e63c4f7a"
      },
      "execution_count": null,
      "outputs": [
        {
          "output_type": "execute_result",
          "data": {
            "text/plain": [
              "(3957, 7975, 50.38244514106583)"
            ]
          },
          "metadata": {},
          "execution_count": 84
        }
      ]
    }
  ]
}